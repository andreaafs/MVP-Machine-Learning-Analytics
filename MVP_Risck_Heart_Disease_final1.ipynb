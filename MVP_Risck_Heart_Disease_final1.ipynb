{
  "cells": [
    {
      "cell_type": "markdown",
      "metadata": {
        "id": "view-in-github",
        "colab_type": "text"
      },
      "source": [
        "<a href=\"https://colab.research.google.com/github/andreaafs/MVP-Machine-Learning-Analytics/blob/main/MVP_Risck_Heart_Disease_final1.ipynb\" target=\"_parent\"><img src=\"https://colab.research.google.com/assets/colab-badge.svg\" alt=\"Open In Colab\"/></a>"
      ]
    },
    {
      "cell_type": "markdown",
      "id": "1fb6682d",
      "metadata": {
        "id": "1fb6682d"
      },
      "source": [
        "# MVP: Previsão de Risco de Doenças Cardíacas"
      ]
    },
    {
      "cell_type": "markdown",
      "source": [
        "Autor: Andrea Ferreira dos Santos\n",
        "\n",
        "Data: 25/09/2025\n",
        "\n",
        "Matrícula: 40530010056_20250_01"
      ],
      "metadata": {
        "id": "qJu07Kqm0mEk"
      },
      "id": "qJu07Kqm0mEk"
    },
    {
      "cell_type": "markdown",
      "id": "1d3cc84b",
      "metadata": {
        "id": "1d3cc84b"
      },
      "source": [
        "## 1. Escopo, Objetivo e Definição do Problema\n",
        "- Objetivo: prever risco de doenças cardíacas (classificação binária: sim/não)\n",
        "- Hipóteses iniciais: idade, pressão, colesterol e histórico familiar influenciam mais.\n",
        "- Restrições: dataset público, sem dados clínicos sensíveis."
      ]
    },
    {
      "cell_type": "markdown",
      "source": [
        "O conjunto de dados foi obtido por amostragem e adaptação do conjunto de dados original do Kaggle. Cada linha no conjunto de dados corresponde a um indivíduo diferente. Algumas colunas são as respostas a perguntas feitas aos entrevistados sobre seu estado de saúde, como:\n",
        "\n",
        "\"Você tem sérias dificuldades para andar ou subir escadas?\" ou \"Você fumou pelo menos 100 cigarros em toda a sua vida? O alvo é a variável Doença Cardíaca, que indica se os entrevistados que já relataram ter doença coronariana (DAC) ou infarto do miocárdio.\n"
      ],
      "metadata": {
        "id": "f3Kr0ASdie4z"
      },
      "id": "f3Kr0ASdie4z"
    },
    {
      "cell_type": "markdown",
      "source": [
        "***OBS:*** Foram excluídas muitas linhas, pois não consegui carregar o dataset completo para o guithub\n"
      ],
      "metadata": {
        "id": "Lq14_n8MixU4"
      },
      "id": "Lq14_n8MixU4"
    },
    {
      "cell_type": "markdown",
      "id": "ca4b1126",
      "metadata": {
        "id": "ca4b1126"
      },
      "source": [
        "## 2. Reprodutibilidade e Ambiente"
      ]
    },
    {
      "cell_type": "code",
      "source": [
        "!pip install dython"
      ],
      "metadata": {
        "id": "i6DzlMytDEv2"
      },
      "id": "i6DzlMytDEv2",
      "execution_count": null,
      "outputs": []
    },
    {
      "cell_type": "code",
      "source": [
        "!pip install cartopy\n"
      ],
      "metadata": {
        "id": "fCKnry065oIS"
      },
      "id": "fCKnry065oIS",
      "execution_count": null,
      "outputs": []
    },
    {
      "cell_type": "code",
      "source": [
        "!apt-get install -y wkhtmltopdf\n",
        "!pip install pdfkit\n"
      ],
      "metadata": {
        "id": "smLx2vP96Bw-"
      },
      "id": "smLx2vP96Bw-",
      "execution_count": null,
      "outputs": []
    },
    {
      "cell_type": "code",
      "source": [
        "# Importação de pacotes\n",
        "import pandas as pd  # Series and DataFrames\n",
        "import numpy as np  # linear algebra\n",
        "import matplotlib\n",
        "import matplotlib.pyplot as plt\n",
        "import seaborn as sns\n",
        "import plotly.express as px\n",
        "import plotly.graph_objects as go\n",
        "import seaborn as sns\n",
        "import math\n",
        "import random\n",
        "import torch\n",
        "import time\n",
        "import cartopy\n",
        "\n",
        "import shap\n",
        "from scipy.stats import ks_2samp\n",
        "import nbformat\n",
        "from nbconvert import HTMLExporter\n",
        "import pdfkit\n",
        "import os\n",
        "\n",
        "# nltk\n",
        "import nltk\n",
        "import ast\n",
        "import random\n",
        "import warnings\n",
        "import cartopy\n",
        "warnings.filterwarnings(\"ignore\", category=DeprecationWarning)\n",
        "\n",
        "from matplotlib import cm\n",
        "from plotly.subplots import make_subplots\n",
        "from sklearn import model_selection # model assesment and model selection strategies\n",
        "from sklearn import metrics # model evaluation metrics\n",
        "from sklearn.ensemble import RandomForestClassifier, GradientBoostingClassifier\n",
        "from sklearn.model_selection import KFold\n",
        "\n",
        "from sklearn.metrics import accuracy_score\n",
        "from sklearn.dummy import DummyClassifier\n",
        "from sklearn.linear_model import LogisticRegression\n",
        "from sklearn.metrics import accuracy_score, f1_score\n",
        "from sklearn.neighbors import KNeighborsClassifier\n",
        "from sklearn.tree import DecisionTreeClassifier\n",
        "\n",
        "\n",
        "from sklearn.model_selection import train_test_split, GridSearchCV\n",
        "from sklearn.preprocessing import StandardScaler, OneHotEncoder\n",
        "from sklearn.compose import ColumnTransformer\n",
        "from sklearn.pipeline import Pipeline\n",
        "\n",
        "\n",
        "\n",
        "from sklearn.metrics import (\n",
        "    accuracy_score, f1_score, precision_score, recall_score,\n",
        "    roc_auc_score, log_loss,confusion_matrix, RocCurveDisplay\n",
        ")\n",
        "from sklearn.dummy import DummyClassifier\n",
        "from sklearn.linear_model import LogisticRegression\n",
        "from sklearn.neighbors import KNeighborsClassifier\n",
        "from sklearn.tree import DecisionTreeClassifier\n",
        "from sklearn.ensemble import RandomForestClassifier, GradientBoostingClassifier\n",
        "from sklearn.svm import SVC\n",
        "from sklearn.naive_bayes import GaussianNB\n",
        "from sklearn.neural_network import MLPClassifier\n",
        "from warnings import simplefilter\n",
        "from sklearn.svm import SVC\n",
        "from sklearn.naive_bayes import GaussianNB\n",
        "from sklearn.neural_network import MLPClassifier\n",
        "from warnings import simplefilter\n",
        "\n",
        "\n",
        "\n",
        "\n",
        "simplefilter(action='ignore', category=UserWarning)\n",
        "\n",
        "# visualization\n",
        "from wordcloud import WordCloud\n",
        "colors = ['#494BD3', '#E28AE2', '#F1F481', '#79DB80', '#DF5F5F',\n",
        "              '#69DADE', '#C2E37D', '#E26580', '#D39F49', '#B96FE3']\n",
        "from plotly.offline import init_notebook_mode, iplot\n",
        "\n",
        "from dython.nominal import associations\n",
        "\n",
        "pd.set_option('display.max_columns', None)\n",
        "# from matplotlib import pyplot as plt\n",
        "%matplotlib inline\n",
        "plt.style.use('ggplot')\n",
        "pd.set_option('display.max_rows', 500)\n",
        "pd.options.display.float_format = '{:,.2f}'.format\n",
        "\n",
        "\n",
        "# Print last updated\n",
        "import time\n",
        "print(f\"Last updated: {time.asctime()}\")"
      ],
      "metadata": {
        "id": "3QuhZPuysMZT"
      },
      "id": "3QuhZPuysMZT",
      "execution_count": null,
      "outputs": []
    },
    {
      "cell_type": "markdown",
      "id": "79104bb5",
      "metadata": {
        "id": "79104bb5"
      },
      "source": [
        "## 3. Dados: Carga, Entendimento e Qualidade"
      ]
    },
    {
      "cell_type": "code",
      "source": [
        "def read_dataset():\n",
        "    try:\n",
        "        # Carregar dataset direto do GitHub\n",
        "        url = \"https://raw.githubusercontent.com/andreaafs/MVP-Machine-Learning-Analytics/refs/heads/main/heart_disease_data2.csv\"\n",
        "\n",
        "        df = pd.read_csv(url)\n",
        "\n",
        "        print('\"heart_disease_data2.csv\" imported successfully!')\n",
        "        # Exibir as primeiras linhas do dataframe\n",
        "\n",
        "        return df\n",
        "\n",
        "    except FileNotFoundError as e:\n",
        "        print(f\"Erro: Arquivo não encontrado: {e}\")\n",
        "    except Exception as e:\n",
        "        print(f\"Erro ao ler o arquivo CSV: {e}\")"
      ],
      "metadata": {
        "id": "jWIudcDhN3b8"
      },
      "id": "jWIudcDhN3b8",
      "execution_count": null,
      "outputs": []
    },
    {
      "cell_type": "code",
      "source": [
        "df =read_dataset()"
      ],
      "metadata": {
        "id": "GWn8DH4zDah7"
      },
      "id": "GWn8DH4zDah7",
      "execution_count": null,
      "outputs": []
    },
    {
      "cell_type": "code",
      "execution_count": null,
      "id": "55ebe959",
      "metadata": {
        "id": "55ebe959"
      },
      "outputs": [],
      "source": [
        "# Conferir colunas e renomear target caso necessário\n",
        "print(df.columns)\n",
        "\n",
        "# Definir a primeira coluna 'HeartDisease' como target\n",
        "target_col = df.columns[0]\n",
        "df.rename(columns={target_col: 'target'}, inplace=True)\n",
        "\n",
        "print(df.info())\n",
        "print(df.describe())\n",
        "print(df.isnull().sum())\n",
        "sns.countplot(x='target', data=df)\n",
        "plt.show()"
      ]
    },
    {
      "cell_type": "code",
      "source": [
        "df.head(5).T"
      ],
      "metadata": {
        "id": "t9wt2PkUuscB"
      },
      "id": "t9wt2PkUuscB",
      "execution_count": null,
      "outputs": []
    },
    {
      "cell_type": "code",
      "source": [
        "df.tail(5).T"
      ],
      "metadata": {
        "id": "Kf7LtBdrU7a1"
      },
      "id": "Kf7LtBdrU7a1",
      "execution_count": null,
      "outputs": []
    },
    {
      "cell_type": "code",
      "source": [
        "df.describe().T"
      ],
      "metadata": {
        "id": "gSEGlx7kU-qn"
      },
      "id": "gSEGlx7kU-qn",
      "execution_count": null,
      "outputs": []
    },
    {
      "cell_type": "markdown",
      "source": [
        "**ANALISANDO OS DADOS**"
      ],
      "metadata": {
        "id": "ACxGEFLVVIqz"
      },
      "id": "ACxGEFLVVIqz"
    },
    {
      "cell_type": "code",
      "source": [
        "df.info(verbose=False)"
      ],
      "metadata": {
        "id": "drZFmTsRU-zd"
      },
      "id": "drZFmTsRU-zd",
      "execution_count": null,
      "outputs": []
    },
    {
      "cell_type": "code",
      "source": [
        "df.columns"
      ],
      "metadata": {
        "id": "_zGSOJL6U-4T"
      },
      "id": "_zGSOJL6U-4T",
      "execution_count": null,
      "outputs": []
    },
    {
      "cell_type": "markdown",
      "source": [
        "**Descrição da tabela:**\n",
        "\n",
        "Explicação Variável\n",
        "\n",
        "\n",
        "\n",
        "*   HeartDisease (Target): Entrevistados que já relataram ter tido doença cardíaca coronária (DCC) ou infarto do miocárdio (IM)\n",
        "*   BMI: Índice de Massa Corporal (IMC)\n",
        "*   Smoking: Você já fumou pelo menos 100 cigarros em toda a sua vida? [Nota: 5 maços = 100 cigarros]\n",
        "*   AlcoholDrinking:Bebedores pesados ​​(homens adultos que consomem mais de 14 doses por semana e mulheres adultas que consomem mais de 7 doses por semana)\n",
        "*  Stroke: (Já lhe disseram) que teve um AVC?\n",
        "*  PhysicalHealth:Agora pensando na sua saúde física\n",
        "*  MentalHealth: Pensando na sua saúde mental\n",
        "Dificuldade para Caminhar: Você tem muita dificuldade para caminhar ou subir escadas?\n",
        "*  Sex: Você é homem ou mulher?\n",
        "*  AgeCategory:Categoria etária de quatorze níveis\n",
        "*  Race:Valor de raça/etnia imputado\n",
        "*  Diabetic: (Já lhe disseram) que teve diabetes?\n",
        "*  PhysicalActivity: Adultos que relataram ter praticado atividade física ou exercício nos últimos 30 dias, além do seu trabalho regular\n",
        "*  GenHealth: Você diria que, em geral, sua saúde é Boa/Muito Boa/…\n",
        "*  SleepTime: Em média\n",
        "*  Asthma:(Já lhe disseram) que teve asma?\n",
        "*  KidneyDisease: Não Incluindo cálculos renais\n",
        "*  SkinCancer: (Já lhe disseram que você tinha) câncer de pele?\n",
        "*  HeartDisease_FamilyHistory: Você tem histórico familiar de doença cardíaca?\n",
        "*  State: US sate \\EUA (residência)\n"
      ],
      "metadata": {
        "id": "Ms3iI12avx1I"
      },
      "id": "Ms3iI12avx1I"
    },
    {
      "cell_type": "code",
      "source": [
        "df.head(4)"
      ],
      "metadata": {
        "id": "u18B1_qEvpin"
      },
      "id": "u18B1_qEvpin",
      "execution_count": null,
      "outputs": []
    },
    {
      "cell_type": "code",
      "source": [
        "print(\"Total de linhas do dataframe : \",df.shape[0])"
      ],
      "metadata": {
        "id": "_fXmUh8VU-8B"
      },
      "id": "_fXmUh8VU-8B",
      "execution_count": null,
      "outputs": []
    },
    {
      "cell_type": "markdown",
      "source": [
        "\n",
        "**Relatório rápido sobre dados**"
      ],
      "metadata": {
        "id": "OeHoAUdUanOv"
      },
      "id": "OeHoAUdUanOv"
    },
    {
      "cell_type": "code",
      "source": [
        "print(df.describe(include=['object']).T)"
      ],
      "metadata": {
        "id": "HRivXHTRU_C_"
      },
      "id": "HRivXHTRU_C_",
      "execution_count": null,
      "outputs": []
    },
    {
      "cell_type": "markdown",
      "source": [
        "#### Podemos obsersevar nos dados apresentados acima que  temos:\n",
        "  * Mais mulheres;\n",
        "  * Menos fumantes;\n",
        "  * Faixa etária entre 65-69;\n",
        "  * Raça Branca;\n",
        "  * Estado predominante OH;\n",
        "  * Condições de Saúde é muito boa\n",
        "    \n",
        "    OBS: As respostas obtidas não represemtam uma amostragem com uma variação de casos, onde podemos ter uma analise não representariva. Com a sequencias dos anos, esperamos que as respostas sejam mais representativas."
      ],
      "metadata": {
        "id": "jsxQwlDiegBW"
      },
      "id": "jsxQwlDiegBW"
    },
    {
      "cell_type": "code",
      "source": [
        "print(df.isnull().sum())"
      ],
      "metadata": {
        "id": "IwlauEOSU_GX"
      },
      "id": "IwlauEOSU_GX",
      "execution_count": null,
      "outputs": []
    },
    {
      "cell_type": "markdown",
      "source": [
        "Durante a etapa de análise de qualidade dos dados, foram identificados dois campos com proporções muito elevadas de valores ausentes:\n",
        "\n",
        "AlcoholDrinking com 101.504 valores nulos\n",
        "\n",
        "HeartDisease_FamilyHistory com 270.420 valores nulos\n",
        "\n",
        "Esses atributos foram considerados não informativos neste momento e poderam ser removidos do dataset, a fim de evitar viés e perda de amostra."
      ],
      "metadata": {
        "id": "7aqjFxm-WUbM"
      },
      "id": "7aqjFxm-WUbM"
    },
    {
      "cell_type": "code",
      "source": [
        "# ---- Distribuição do target ----\n",
        "sns.countplot(x='target', data=df)\n",
        "plt.title(\"Distribuição do Target\")\n",
        "plt.show()"
      ],
      "metadata": {
        "id": "nAoqVKKxfJae"
      },
      "id": "nAoqVKKxfJae",
      "execution_count": null,
      "outputs": []
    },
    {
      "cell_type": "code",
      "source": [
        "# ---- Histogramas das variáveis numéricas ----\n",
        "df.hist(bins=20, figsize=(12,10))\n",
        "plt.suptitle(\"Distribuição das variáveis numéricas\")\n",
        "plt.show()"
      ],
      "metadata": {
        "id": "7Tt2Y-9_fJeK"
      },
      "id": "7Tt2Y-9_fJeK",
      "execution_count": null,
      "outputs": []
    },
    {
      "cell_type": "code",
      "source": [
        "import matplotlib.pyplot as plt\n",
        "\n",
        "# Seleciona apenas as colunas numéricas\n",
        "num_cols = df.select_dtypes(include=['int64', 'float64']).columns\n",
        "\n",
        "# Configura a figura\n",
        "fig, axes = plt.subplots(nrows=len(num_cols)//3 + 1, ncols=3, figsize=(15, 5 * (len(num_cols)//3 + 1)))\n",
        "axes = axes.flatten()\n",
        "\n",
        "# Loop para plotar cada coluna\n",
        "for i, col in enumerate(num_cols):\n",
        "    axes[i].hist(df[col], bins=20, color='skyblue', edgecolor='black')\n",
        "    axes[i].set_title(f'Distribuição de {col}')\n",
        "    axes[i].set_xlabel(col)\n",
        "    axes[i].set_ylabel('Frequência')\n",
        "\n",
        "# Remove subplots extras vazios\n",
        "for j in range(i+1, len(axes)):\n",
        "    fig.delaxes(axes[j])\n",
        "\n",
        "plt.tight_layout()\n",
        "plt.suptitle(\"Histogramas das Variáveis Numéricas\", fontsize=16, y=1.02)\n",
        "plt.show()\n"
      ],
      "metadata": {
        "id": "rkPS87POCdLk"
      },
      "id": "rkPS87POCdLk",
      "execution_count": null,
      "outputs": []
    },
    {
      "cell_type": "markdown",
      "source": [
        "**Gráfico de Densidade**"
      ],
      "metadata": {
        "id": "oWLCIojZCrc9"
      },
      "id": "oWLCIojZCrc9"
    },
    {
      "cell_type": "code",
      "source": [
        "df.plot(kind = 'density', subplots = True, layout = (3,3), sharex = False, figsize = (15,10))\n",
        "plt.show()"
      ],
      "metadata": {
        "id": "NzmXdvymCkrT"
      },
      "id": "NzmXdvymCkrT",
      "execution_count": null,
      "outputs": []
    },
    {
      "cell_type": "code",
      "source": [
        "# Boxplot\n",
        "df.plot(kind = 'box', subplots = True, layout = (3,3), sharex = False, sharey = False, figsize = (15,10))\n",
        "plt.show()"
      ],
      "metadata": {
        "id": "VnQU0e7hFNl5"
      },
      "id": "VnQU0e7hFNl5",
      "execution_count": null,
      "outputs": []
    },
    {
      "cell_type": "markdown",
      "source": [
        "**Podemos obsvar que temos bastentes outliers visíveis como pontos fora do alcance dos bigodes. **"
      ],
      "metadata": {
        "id": "O7a3LRh5ekt2"
      },
      "id": "O7a3LRh5ekt2"
    },
    {
      "cell_type": "code",
      "source": [
        "# ---- Associações mistas (numéricas e categóricas) ----\n",
        "associations(df, figsize=(12, 10))\n",
        "plt.show()"
      ],
      "metadata": {
        "id": "JJbG7_ivfJhk"
      },
      "id": "JJbG7_ivfJhk",
      "execution_count": null,
      "outputs": []
    },
    {
      "cell_type": "code",
      "source": [
        "plt.figure(figsize=(10,8))\n",
        "sns.heatmap(df.select_dtypes(include=['int64','float64']).corr(),\n",
        "            annot=True, cmap=\"coolwarm\", fmt=\".2f\")\n",
        "plt.title(\"Matriz de Correlação - Variáveis Numéricas\")\n",
        "plt.show()\n"
      ],
      "metadata": {
        "id": "qwvaebCFfJlA"
      },
      "id": "qwvaebCFfJlA",
      "execution_count": null,
      "outputs": []
    },
    {
      "cell_type": "markdown",
      "source": [
        "**scatter plot)**"
      ],
      "metadata": {
        "id": "OKnHApw9I9Og"
      },
      "id": "OKnHApw9I9Og"
    },
    {
      "cell_type": "code",
      "source": [
        "sns.pairplot(df)"
      ],
      "metadata": {
        "id": "pObDP0T0I76e"
      },
      "id": "pObDP0T0I76e",
      "execution_count": null,
      "outputs": []
    },
    {
      "cell_type": "markdown",
      "source": [
        "\n",
        " Descritivas estatísticas do conjunto de dados"
      ],
      "metadata": {
        "id": "stGUOOEMkpRw"
      },
      "id": "stGUOOEMkpRw"
    },
    {
      "cell_type": "markdown",
      "source": [
        "#### variaveis categoricas"
      ],
      "metadata": {
        "id": "jNIQZtJUlKxr"
      },
      "id": "jNIQZtJUlKxr"
    },
    {
      "cell_type": "code",
      "source": [
        "df.describe(include=['object']).T"
      ],
      "metadata": {
        "id": "zyQd_51vfJnh"
      },
      "id": "zyQd_51vfJnh",
      "execution_count": null,
      "outputs": []
    },
    {
      "cell_type": "code",
      "source": [
        "for index in df.select_dtypes(include = \"object\"):\n",
        "    print(f\"{index}\")\n",
        "    print(df[index].unique())\n",
        "    print('\\n')"
      ],
      "metadata": {
        "id": "_3RSWJVRfJtN"
      },
      "id": "_3RSWJVRfJtN",
      "execution_count": null,
      "outputs": []
    },
    {
      "cell_type": "markdown",
      "source": [
        "#### variaveis não categoricas"
      ],
      "metadata": {
        "id": "Ex2tKVOHl4qN"
      },
      "id": "Ex2tKVOHl4qN"
    },
    {
      "cell_type": "code",
      "source": [
        "df.select_dtypes(include=['number']).describe().T"
      ],
      "metadata": {
        "id": "ZU1qJrfAfJwH"
      },
      "id": "ZU1qJrfAfJwH",
      "execution_count": null,
      "outputs": []
    },
    {
      "cell_type": "code",
      "source": [
        "for index in df.select_dtypes(include = \"number\"):\n",
        "    print(f\"{index}\")\n",
        "    print(df[index].unique())\n",
        "    print('\\n')"
      ],
      "metadata": {
        "id": "3jBkTyQRfJzc"
      },
      "id": "3jBkTyQRfJzc",
      "execution_count": null,
      "outputs": []
    },
    {
      "cell_type": "markdown",
      "source": [
        "Número de valores **nulos**"
      ],
      "metadata": {
        "id": "u4_xg9armPEo"
      },
      "id": "u4_xg9armPEo"
    },
    {
      "cell_type": "code",
      "source": [
        "df.select_dtypes(include=['number']).isnull().sum()"
      ],
      "metadata": {
        "id": "Vu9FOuoCmSUO"
      },
      "id": "Vu9FOuoCmSUO",
      "execution_count": null,
      "outputs": []
    },
    {
      "cell_type": "code",
      "source": [
        "df.select_dtypes(include=['object']).isnull().sum()"
      ],
      "metadata": {
        "id": "LGd3XmhQfJ2s"
      },
      "id": "LGd3XmhQfJ2s",
      "execution_count": null,
      "outputs": []
    },
    {
      "cell_type": "markdown",
      "source": [
        "\n",
        "\n",
        "**Distribuição/Intervalo de Valores Alvo**"
      ],
      "metadata": {
        "id": "OYeKOdpTmRJv"
      },
      "id": "OYeKOdpTmRJv"
    },
    {
      "cell_type": "code",
      "source": [
        "df[['target']].head()"
      ],
      "metadata": {
        "id": "Gqi9gsRCfJ6u"
      },
      "id": "Gqi9gsRCfJ6u",
      "execution_count": null,
      "outputs": []
    },
    {
      "cell_type": "code",
      "source": [
        "# Acessar a coluna 'HeartDisease'\n",
        "coluna_heart_disease = df['target']\n",
        "print(\"Coluna target:\")\n",
        "print(coluna_heart_disease)"
      ],
      "metadata": {
        "id": "9dLxo9khfJ_i"
      },
      "id": "9dLxo9khfJ_i",
      "execution_count": null,
      "outputs": []
    },
    {
      "cell_type": "code",
      "source": [
        "print('This is a Series')\n",
        "print(type(df['target']))\n",
        "df['target'].head()"
      ],
      "metadata": {
        "id": "TKRdm8ZxvpeR"
      },
      "id": "TKRdm8ZxvpeR",
      "execution_count": null,
      "outputs": []
    },
    {
      "cell_type": "code",
      "source": [
        "df['target'].value_counts(dropna=False)"
      ],
      "metadata": {
        "id": "JQeH-Q-Ondy0"
      },
      "id": "JQeH-Q-Ondy0",
      "execution_count": null,
      "outputs": []
    },
    {
      "cell_type": "markdown",
      "source": [
        "A variavel Target possui dois valors e um nulo\n",
        "\n",
        "HeartDisease = \"Yes\"\n",
        "\n",
        "HeartDisease = \"No\""
      ],
      "metadata": {
        "id": "4-3PcMT2n7WE"
      },
      "id": "4-3PcMT2n7WE"
    },
    {
      "cell_type": "code",
      "source": [
        "# Vamos ver quantas amostras positivas (1) e negativas (0) temos em nosso dataframe\n",
        "df.target.value_counts()"
      ],
      "metadata": {
        "id": "s0NmBQQxgbjg"
      },
      "id": "s0NmBQQxgbjg",
      "execution_count": null,
      "outputs": []
    },
    {
      "cell_type": "code",
      "source": [
        "# Plot as contagens de valores com um gráfico de barras\n",
        "df.target.value_counts().plot(kind=\"bar\", color=[\"salmon\", \"lightblue\"]);"
      ],
      "metadata": {
        "id": "VaRxUdQLgvs1"
      },
      "id": "VaRxUdQLgvs1",
      "execution_count": null,
      "outputs": []
    },
    {
      "cell_type": "markdown",
      "source": [
        "**Obs:**\n",
        "Como foi encontrado um valor NaN a opção mais comum é remover as linhas com NaN na target, porque sem o valor correto não tem como treinar o modelo (nem validar a previsão)."
      ],
      "metadata": {
        "id": "0iC_hKJIn7mu"
      },
      "id": "0iC_hKJIn7mu"
    },
    {
      "cell_type": "code",
      "source": [
        "df = df.dropna(subset=[\"target\"])"
      ],
      "metadata": {
        "id": "AVsuDrrRqyZs"
      },
      "id": "AVsuDrrRqyZs",
      "execution_count": null,
      "outputs": []
    },
    {
      "cell_type": "code",
      "source": [
        "df['target'].value_counts(dropna=False)"
      ],
      "metadata": {
        "id": "nOvZvRXpq5xv"
      },
      "id": "nOvZvRXpq5xv",
      "execution_count": null,
      "outputs": []
    },
    {
      "cell_type": "code",
      "source": [
        "df.info()"
      ],
      "metadata": {
        "id": "jL_HhZKVhbS4"
      },
      "id": "jL_HhZKVhbS4",
      "execution_count": null,
      "outputs": []
    },
    {
      "cell_type": "markdown",
      "source": [
        "Como noasa variavel Target é categorica, para faciitar o estudo irei transformar em não categoria variando os valores entre 0 e 1\n",
        "\n",
        "HeartDisease = \"Yes\" => tem chance de ter problemas cardiacos será 1\n",
        "\n",
        "HeartDisease = \"No\" => Não tem chance de ter problemas cardiacos será 0"
      ],
      "metadata": {
        "id": "3K-5tf3GmRVw"
      },
      "id": "3K-5tf3GmRVw"
    },
    {
      "cell_type": "code",
      "source": [
        "df[\"target\"] = df[\"target\"].map({\"No\": 0, \"Yes\": 1}).astype(\"Int64\")"
      ],
      "metadata": {
        "id": "EBiu-9m5q53o"
      },
      "id": "EBiu-9m5q53o",
      "execution_count": null,
      "outputs": []
    },
    {
      "cell_type": "code",
      "source": [
        "# Acessar a coluna 'HeartDisease'\n",
        "coluna_target = df['target']\n",
        "print(\"Coluna target:\")\n",
        "print(coluna_target)"
      ],
      "metadata": {
        "id": "rbbUiBMiq59Q"
      },
      "id": "rbbUiBMiq59Q",
      "execution_count": null,
      "outputs": []
    },
    {
      "cell_type": "code",
      "source": [
        "# retorna o total de linhas\n",
        "df['target'].count()"
      ],
      "metadata": {
        "id": "uyehXYyZrqHr"
      },
      "id": "uyehXYyZrqHr",
      "execution_count": null,
      "outputs": []
    },
    {
      "cell_type": "code",
      "source": [
        "#  retorma a soma\n",
        "df['target'].sum()"
      ],
      "metadata": {
        "id": "33lIfapYrqLd"
      },
      "id": "33lIfapYrqLd",
      "execution_count": null,
      "outputs": []
    },
    {
      "cell_type": "code",
      "source": [
        "# retorna a media\n",
        "df['target'].mean()"
      ],
      "metadata": {
        "id": "JUstsKJZrqO6"
      },
      "id": "JUstsKJZrqO6",
      "execution_count": null,
      "outputs": []
    },
    {
      "cell_type": "markdown",
      "source": [
        "Distribuição de variáveis ​​e relações com o Target"
      ],
      "metadata": {
        "id": "BIi9_0bhsXEL"
      },
      "id": "BIi9_0bhsXEL"
    },
    {
      "cell_type": "markdown",
      "source": [
        "* Variavel BMI\n",
        "\n",
        "para ver a relação e distribuição da variavel com o Targer\n",
        "\n"
      ],
      "metadata": {
        "id": "YtiE4NXUsiUJ"
      },
      "id": "YtiE4NXUsiUJ"
    },
    {
      "cell_type": "code",
      "source": [
        "print(\"BMI\")\n",
        "print(df['BMI'].unique())\n",
        "print('\\n')"
      ],
      "metadata": {
        "id": "Sr3OMsOVrqSD"
      },
      "id": "Sr3OMsOVrqSD",
      "execution_count": null,
      "outputs": []
    },
    {
      "cell_type": "code",
      "source": [
        "df.BMI.value_counts()"
      ],
      "metadata": {
        "id": "xxx8_opqi5wY"
      },
      "id": "xxx8_opqi5wY",
      "execution_count": null,
      "outputs": []
    },
    {
      "cell_type": "code",
      "source": [
        "# Compare target column with BMI column\n",
        "pd.crosstab(df.target, df.BMI)"
      ],
      "metadata": {
        "id": "1n8yE_63jBQe"
      },
      "id": "1n8yE_63jBQe",
      "execution_count": null,
      "outputs": []
    },
    {
      "cell_type": "code",
      "source": [
        "# plot\n",
        "pd.crosstab(df.target, df.BMI).plot(kind=\"bar\",\n",
        "                                    figsize=(10,6),\n",
        "                                    color=[\"salmon\", \"lightblue\"]);"
      ],
      "metadata": {
        "id": "cfdWGGgEjg-M"
      },
      "id": "cfdWGGgEjg-M",
      "execution_count": null,
      "outputs": []
    },
    {
      "cell_type": "markdown",
      "source": [
        "**Histograma da BMI**"
      ],
      "metadata": {
        "id": "WalSOzvPsorR"
      },
      "id": "WalSOzvPsorR"
    },
    {
      "cell_type": "code",
      "source": [
        "# Plotar o histograma usando Matplotlib\n",
        "plt.figure(figsize=(10, 6))\n",
        "sns.histplot(df['BMI'], bins=10, kde=True, label='BMI Distribution')\n",
        "plt.xlabel('BMI')\n",
        "plt.ylabel('Frequency')\n",
        "plt.title('Histogram of BMI')\n",
        "plt.legend(title='Legend')  # Adiciona uma legenda com título\n",
        "plt.show()"
      ],
      "metadata": {
        "id": "gkobp3rTrqVJ"
      },
      "id": "gkobp3rTrqVJ",
      "execution_count": null,
      "outputs": []
    },
    {
      "cell_type": "markdown",
      "source": [
        "#### Este gráfico evidencia que a maior parte da amostra se concentra em valores de IMC entre 20 e 40, indicando que a maioria dos indivíduos analisados encontra-se em condição de sobrepeso ou obesidade. Além disso, observa-se que justamente nessas faixas o risco de desenvolver doenças cardíacas tende a ser mais elevado, reforçando a relação entre excesso de peso e maior probabilidade de problemas cardiovasculares."
      ],
      "metadata": {
        "id": "LA4NwVRSunP-"
      },
      "id": "LA4NwVRSunP-"
    },
    {
      "cell_type": "markdown",
      "source": [
        "**Distribuição dos valores dos valores de BMI entre os indivíduos no seu conjunto de dados**"
      ],
      "metadata": {
        "id": "8L2rpSIGuwos"
      },
      "id": "8L2rpSIGuwos"
    },
    {
      "cell_type": "code",
      "source": [
        "df_bmi = df[['BMI','target']].groupby(['BMI']).mean()"
      ],
      "metadata": {
        "id": "2evj5n3lrqYf"
      },
      "id": "2evj5n3lrqYf",
      "execution_count": null,
      "outputs": []
    },
    {
      "cell_type": "code",
      "source": [
        "df_bmi.head()"
      ],
      "metadata": {
        "id": "V1GzIe7Wrqbt"
      },
      "id": "V1GzIe7Wrqbt",
      "execution_count": null,
      "outputs": []
    },
    {
      "cell_type": "code",
      "source": [
        "df_bmi"
      ],
      "metadata": {
        "id": "Ssp4pUhXvJgv"
      },
      "id": "Ssp4pUhXvJgv",
      "execution_count": null,
      "outputs": []
    },
    {
      "cell_type": "code",
      "source": [
        "plt.figure(figsize=(14, 7))\n",
        "sns.lineplot(data=df_bmi, x='BMI', y='target')\n",
        "plt.xlabel('BMI')\n",
        "plt.ylabel('Mean Heart Disease')\n",
        "plt.title('Mean Heart Disease by BMI')\n",
        "plt.show()"
      ],
      "metadata": {
        "id": "exTfrUkgvJQM"
      },
      "id": "exTfrUkgvJQM",
      "execution_count": null,
      "outputs": []
    },
    {
      "cell_type": "markdown",
      "source": [
        "#### Neste gráfico, observa-se que a média de pessoas com maior incidência de doenças cardíacas está concentrada justamente na faixa que, anteriormente, já havia se destacado pela maior frequência da amostra: indivíduos em situação de sobrepeso ou obesidade. Além disso, nota-se a presença de alguns valores destoantes, provavelmente resultantes de erros de registro ou inconsistências na base de dados, já que representam medidas que seriam inviáveis de serem alcançadas na prática"
      ],
      "metadata": {
        "id": "KUZvQSrcvjr3"
      },
      "id": "KUZvQSrcvjr3"
    },
    {
      "cell_type": "markdown",
      "source": [
        "**Analise**"
      ],
      "metadata": {
        "id": "fO46SqHfvo4i"
      },
      "id": "fO46SqHfvo4i"
    },
    {
      "cell_type": "code",
      "source": [
        "plt.figure(figsize=(14, 7))\n",
        "sns.scatterplot(data=df_bmi, x='BMI', y='target')\n",
        "plt.xlabel('BMI')\n",
        "plt.ylabel('Mean Heart Disease')\n",
        "plt.title('Mean Heart Disease by BMI')\n",
        "plt.show()"
      ],
      "metadata": {
        "id": "9-GK2wpxvI7z"
      },
      "id": "9-GK2wpxvI7z",
      "execution_count": null,
      "outputs": []
    },
    {
      "cell_type": "markdown",
      "source": [
        "**Calculando a medias por faixa etaria  de ter problemas cardiaco**"
      ],
      "metadata": {
        "id": "P45yQPfqwGHW"
      },
      "id": "P45yQPfqwGHW"
    },
    {
      "cell_type": "code",
      "source": [
        "df_agecategory = df.groupby('AgeCategory')['target'].mean().reset_index()"
      ],
      "metadata": {
        "id": "S7tuGqgzwJBv"
      },
      "id": "S7tuGqgzwJBv",
      "execution_count": null,
      "outputs": []
    },
    {
      "cell_type": "code",
      "source": [
        "print(df_agecategory)"
      ],
      "metadata": {
        "id": "Li4A6qbbwKX6"
      },
      "id": "Li4A6qbbwKX6",
      "execution_count": null,
      "outputs": []
    },
    {
      "cell_type": "code",
      "source": [
        "from google.colab import data_table\n",
        "data_table.enable_dataframe_formatter()"
      ],
      "metadata": {
        "id": "MfDSRjpvwwv5"
      },
      "id": "MfDSRjpvwwv5",
      "execution_count": null,
      "outputs": []
    },
    {
      "cell_type": "code",
      "source": [
        "from google.colab import data_table\n",
        "data_table.disable_dataframe_formatter()"
      ],
      "metadata": {
        "id": "l9pqnGgSwzsM"
      },
      "id": "l9pqnGgSwzsM",
      "execution_count": null,
      "outputs": []
    },
    {
      "cell_type": "code",
      "source": [
        "data_table.DataTable(df_agecategory, include_index=False, num_rows_per_page=10)"
      ],
      "metadata": {
        "id": "l22E4fZPyy0X"
      },
      "id": "l22E4fZPyy0X",
      "execution_count": null,
      "outputs": []
    },
    {
      "cell_type": "code",
      "source": [
        "plt.figure(figsize=(14, 7))\n",
        "\n",
        "# Criar uma paleta com cores diferentes para cada barra\n",
        "palette = sns.color_palette(\"tab10\", n_colors=len(df_agecategory))\n",
        "\n",
        "sns.barplot(\n",
        "    data=df_agecategory,\n",
        "    x='AgeCategory',\n",
        "    y='target',\n",
        "    palette=palette\n",
        ")\n",
        "\n",
        "plt.xlabel('Age Category')\n",
        "plt.ylabel('Mean Heart Disease')\n",
        "plt.title('Mean Heart Disease by Age Category')\n",
        "plt.xticks(rotation=90)\n",
        "plt.show()"
      ],
      "metadata": {
        "id": "48Fp0ZEYwJ9l"
      },
      "id": "48Fp0ZEYwJ9l",
      "execution_count": null,
      "outputs": []
    },
    {
      "cell_type": "markdown",
      "source": [
        "##### Pela media podemos afirmar que com o aumento da idade temos mais probabilidade de ter doenças cardiacas. Visualmente podemos observar que  depois deis 50 o Risco tem um aumento siginificativo."
      ],
      "metadata": {
        "id": "eVbNRqc70QxC"
      },
      "id": "eVbNRqc70QxC"
    },
    {
      "cell_type": "markdown",
      "source": [
        "**Calculando a media por faixa etaria, sexo e ter ou nao Problemas cardiacos**"
      ],
      "metadata": {
        "id": "lx4hXOg90WY5"
      },
      "id": "lx4hXOg90WY5"
    },
    {
      "cell_type": "code",
      "source": [
        "df_sex_agecategory = df[['AgeCategory', 'Sex', 'target']].groupby(['AgeCategory', 'Sex']).mean().reset_index()"
      ],
      "metadata": {
        "id": "1YpH0X7g0Vyj"
      },
      "id": "1YpH0X7g0Vyj",
      "execution_count": null,
      "outputs": []
    },
    {
      "cell_type": "code",
      "source": [
        "print(df_sex_agecategory)"
      ],
      "metadata": {
        "id": "aoZCt0B7wJxN"
      },
      "id": "aoZCt0B7wJxN",
      "execution_count": null,
      "outputs": []
    },
    {
      "cell_type": "code",
      "source": [
        "data_table.DataTable(df_sex_agecategory, include_index=False, num_rows_per_page=30)"
      ],
      "metadata": {
        "id": "X_xbOk8fwJeZ"
      },
      "id": "X_xbOk8fwJeZ",
      "execution_count": null,
      "outputs": []
    },
    {
      "cell_type": "code",
      "source": [
        "plt.figure(figsize=(14, 7))\n",
        "sns.barplot(data=df_sex_agecategory, x='AgeCategory', y='target', hue='Sex')\n",
        "plt.xlabel('Age Category')\n",
        "plt.ylabel('Mean Heart Disease')\n",
        "plt.title('Mean Heart Disease by Age Category and Sex')\n",
        "plt.xticks(rotation=90)\n",
        "plt.show()"
      ],
      "metadata": {
        "id": "3iDt0DVf0vIe"
      },
      "id": "3iDt0DVf0vIe",
      "execution_count": null,
      "outputs": []
    },
    {
      "cell_type": "markdown",
      "source": [
        "Podemos observar que os homens possuem uma maior probabilidade de ter doenças cardiacas independendente da idade e que a partir da faixa de 45 -49 o risco aumenta muito"
      ],
      "metadata": {
        "id": "b_2NGCOl1XO5"
      },
      "id": "b_2NGCOl1XO5"
    },
    {
      "cell_type": "code",
      "source": [
        "df_sex_agecategory.info(verbose=False)"
      ],
      "metadata": {
        "id": "xgVUb1fQ0vel"
      },
      "id": "xgVUb1fQ0vel",
      "execution_count": null,
      "outputs": []
    },
    {
      "cell_type": "code",
      "source": [
        "df_agecategory.info(verbose=False)"
      ],
      "metadata": {
        "id": "ZGVMvfGs1l6Q"
      },
      "id": "ZGVMvfGs1l6Q",
      "execution_count": null,
      "outputs": []
    },
    {
      "cell_type": "code",
      "source": [
        "plt.figure(figsize=[9,3])\n",
        "df_agecategory['target'].plot()"
      ],
      "metadata": {
        "id": "JdDJXjXV1wu-"
      },
      "id": "JdDJXjXV1wu-",
      "execution_count": null,
      "outputs": []
    },
    {
      "cell_type": "markdown",
      "source": [
        "Verificamos conforme o aumento da idade temos mais risco de ter Doença cardíaca"
      ],
      "metadata": {
        "id": "hCxQ4sGK1ZLi"
      },
      "id": "hCxQ4sGK1ZLi"
    },
    {
      "cell_type": "markdown",
      "source": [
        "#### Variavel  Race"
      ],
      "metadata": {
        "id": "SDO6_zj52bQ9"
      },
      "id": "SDO6_zj52bQ9"
    },
    {
      "cell_type": "markdown",
      "source": [
        "Usaremos o histograma para distribuição da variação em relação a raça e como é uma variavel categorica irei transformar em não categorica"
      ],
      "metadata": {
        "id": "oaC_aTL-2iyI"
      },
      "id": "oaC_aTL-2iyI"
    },
    {
      "cell_type": "code",
      "source": [
        "df['Race'].head()"
      ],
      "metadata": {
        "id": "U7PBhJqg2hoA"
      },
      "id": "U7PBhJqg2hoA",
      "execution_count": null,
      "outputs": []
    },
    {
      "cell_type": "code",
      "source": [
        "valores_distintos = df['Race'].unique()\n",
        "print(valores_distintos)"
      ],
      "metadata": {
        "id": "5dWroU7i2cPO"
      },
      "id": "5dWroU7i2cPO",
      "execution_count": null,
      "outputs": []
    },
    {
      "cell_type": "code",
      "source": [
        "df[\"Race\"].isnull().sum()"
      ],
      "metadata": {
        "id": "58M3MdCuNBz5"
      },
      "id": "58M3MdCuNBz5",
      "execution_count": null,
      "outputs": []
    },
    {
      "cell_type": "code",
      "source": [
        "df.loc[:, \"Race\"] = (\n",
        "    df[\"Race\"]\n",
        "    .replace({\n",
        "        \"White\": 0,\n",
        "        \"Black\": 1,\n",
        "        \"Asian\": 2,\n",
        "        \"American Indian/Alaskan Native\": 3,\n",
        "        \"Other\": 4,\n",
        "        \"Hispanic\": 5,\n",
        "        \"nan\": -1\n",
        "    })\n",
        "    .fillna(-1)  # cobre NaN reais\n",
        "    .astype(\"int8\")  # converte para numérico compacto\n",
        ")\n",
        "\n"
      ],
      "metadata": {
        "id": "gvhdZdFbN9Cg"
      },
      "id": "gvhdZdFbN9Cg",
      "execution_count": null,
      "outputs": []
    },
    {
      "cell_type": "code",
      "source": [
        "df['Race'].head()"
      ],
      "metadata": {
        "id": "0QM2P9KP2etu"
      },
      "id": "0QM2P9KP2etu",
      "execution_count": null,
      "outputs": []
    },
    {
      "cell_type": "code",
      "source": [
        "df_race = df[['Race','target']].groupby(['Race']).count()\n",
        "print(df_race)"
      ],
      "metadata": {
        "id": "XgGjQsA92edB"
      },
      "id": "XgGjQsA92edB",
      "execution_count": null,
      "outputs": []
    },
    {
      "cell_type": "code",
      "source": [
        "df['Race'].plot(kind='hist', bins = 100)"
      ],
      "metadata": {
        "id": "edDAlbnT2eWv"
      },
      "id": "edDAlbnT2eWv",
      "execution_count": null,
      "outputs": []
    },
    {
      "cell_type": "markdown",
      "source": [
        "##### Verificamos que a raça não é uma opção boa para analise pois notamos que a nossa amostragem e composta de sua maioria da raça branca. Logo, poderemos ver uma certa tendencica a informar que a raça branca terá maior probabilidade de ter doenças cardiácas"
      ],
      "metadata": {
        "id": "1n3XB0M93T_E"
      },
      "id": "1n3XB0M93T_E"
    },
    {
      "cell_type": "markdown",
      "source": [
        "**Calculando a media por Raça**"
      ],
      "metadata": {
        "id": "FpdD_LW-3VvW"
      },
      "id": "FpdD_LW-3VvW"
    },
    {
      "cell_type": "code",
      "source": [
        "df['Race'].value_counts()"
      ],
      "metadata": {
        "id": "53JbYE6U4VLB"
      },
      "id": "53JbYE6U4VLB",
      "execution_count": null,
      "outputs": []
    },
    {
      "cell_type": "code",
      "source": [
        "df['Race'].value_counts(normalize=True) * 100"
      ],
      "metadata": {
        "id": "unr70o094WOJ"
      },
      "id": "unr70o094WOJ",
      "execution_count": null,
      "outputs": []
    },
    {
      "cell_type": "code",
      "source": [
        "df.groupby('Race')['target'].mean()\n"
      ],
      "metadata": {
        "id": "5JhqhZqT4fnk"
      },
      "id": "5JhqhZqT4fnk",
      "execution_count": null,
      "outputs": []
    },
    {
      "cell_type": "code",
      "source": [
        "# Calcular média de HeartDisease por raça\n",
        "race_mean = df.groupby('Race')['target'].mean().reset_index()\n",
        "\n",
        "# Criar paleta de cores (uma para cada raça)\n",
        "palette = sns.color_palette(\"Set2\", n_colors=len(race_mean))\n",
        "\n",
        "# Plotar gráfico de barras\n",
        "plt.figure(figsize=(12,6))\n",
        "sns.barplot(data=race_mean, x='Race', y='target', palette=palette)\n",
        "plt.xlabel('Race')\n",
        "plt.ylabel('Mean Heart Disease')\n",
        "plt.title('Mean Heart Disease by Race')\n",
        "plt.xticks(rotation=45)\n",
        "plt.show()"
      ],
      "metadata": {
        "id": "PJ8pjj1U2eS1"
      },
      "id": "PJ8pjj1U2eS1",
      "execution_count": null,
      "outputs": []
    },
    {
      "cell_type": "markdown",
      "source": [
        "Pelo gráfico histograma de Raça.\n",
        "\n",
        "*  Podemos notar que a maior frequÊncia da raça é a Branca\n",
        "*  Asiáticos demonstram menor probabilidade de ter doenças cardiacas enquanto os nativos americanos apresentam a maior\n",
        "\n"
      ],
      "metadata": {
        "id": "MW7ciz_V5GKZ"
      },
      "id": "MW7ciz_V5GKZ"
    },
    {
      "cell_type": "markdown",
      "source": [
        "**Relação da Raca/ BMI e HeartDisease**"
      ],
      "metadata": {
        "id": "6BpBCYPJ5rGM"
      },
      "id": "6BpBCYPJ5rGM"
    },
    {
      "cell_type": "code",
      "source": [
        "# Calculando médias por raça\n",
        "mean_values_by_race = df.groupby('Race').agg({\n",
        "    'BMI': 'mean',\n",
        "    'target': 'mean'\n",
        "}).reset_index()\n",
        "\n",
        "print(mean_values_by_race)"
      ],
      "metadata": {
        "id": "l39631fg2ePS"
      },
      "id": "l39631fg2ePS",
      "execution_count": null,
      "outputs": []
    },
    {
      "cell_type": "code",
      "source": [
        "plt.figure(figsize=(10, 6))\n",
        "sns.scatterplot(data=mean_values_by_race, x='BMI', y='target', hue='Race', palette='Set2', s=100)\n",
        "plt.xlabel('Mean BMI')\n",
        "plt.ylabel('Mean Heart Disease')\n",
        "plt.title('Mean BMI vs Mean Heart Disease by Race')\n",
        "plt.show()"
      ],
      "metadata": {
        "id": "ivorQpxo2eL3"
      },
      "id": "ivorQpxo2eL3",
      "execution_count": null,
      "outputs": []
    },
    {
      "cell_type": "code",
      "source": [
        "plt.figure(figsize=(12, 6))\n",
        "\n",
        "# Plotagem de BMI\n",
        "plt.subplot(1, 2, 1)\n",
        "sns.barplot(data=mean_values_by_race, x='Race', y='BMI', palette='Blues')\n",
        "plt.xlabel('Race')\n",
        "plt.ylabel('Mean BMI')\n",
        "plt.title('Mean BMI by Race')\n",
        "\n",
        "# Plotagem de HeartDisease\n",
        "plt.subplot(1, 2, 2)\n",
        "sns.barplot(data=mean_values_by_race, x='Race', y='target', palette='Oranges')\n",
        "plt.xlabel('Race')\n",
        "plt.ylabel('Mean Heart Disease')\n",
        "plt.title('Mean Heart Disease by Race')\n",
        "\n",
        "plt.tight_layout()\n",
        "plt.show()"
      ],
      "metadata": {
        "id": "Pk3VSOKl2eIe"
      },
      "id": "Pk3VSOKl2eIe",
      "execution_count": null,
      "outputs": []
    },
    {
      "cell_type": "markdown",
      "source": [
        "Ao comparar o IMC (BMI) entre as diferentes raças, observa-se que os valores apresentam diferenças entre os grupos. Por outro lado, as probabilidades de desenvolver doenças cardíacas apresentam variações mais significativas, sugerindo que o IMC tem uma correlação maior com o risco de doenças cardíacas neste conjunto de dados do que a Raça."
      ],
      "metadata": {
        "id": "hW_ZFvHH6Pa_"
      },
      "id": "hW_ZFvHH6Pa_"
    },
    {
      "cell_type": "markdown",
      "source": [
        "Variavel MentalHealth\n",
        "\n",
        "Analise para MentalHealth"
      ],
      "metadata": {
        "id": "wN2gaV8v7pUf"
      },
      "id": "wN2gaV8v7pUf"
    },
    {
      "cell_type": "code",
      "source": [
        "df['MentalHealth'].head()"
      ],
      "metadata": {
        "id": "YMqF6n2M2eE_"
      },
      "id": "YMqF6n2M2eE_",
      "execution_count": null,
      "outputs": []
    },
    {
      "cell_type": "code",
      "source": [
        "df['MentalHealth'].plot(kind='hist', bins = 100)"
      ],
      "metadata": {
        "id": "6HY7mQrB2eBc"
      },
      "id": "6HY7mQrB2eBc",
      "execution_count": null,
      "outputs": []
    },
    {
      "cell_type": "code",
      "source": [
        "# Calcular a média de MentalHealth por HeartDisease\n",
        "mean_mental_health_by_heart_disease = df.groupby('target')['MentalHealth'].mean().reset_index()\n",
        "print(mean_mental_health_by_heart_disease)"
      ],
      "metadata": {
        "id": "PmxBKdpl2d-J"
      },
      "id": "PmxBKdpl2d-J",
      "execution_count": null,
      "outputs": []
    },
    {
      "cell_type": "code",
      "source": [
        "plt.figure(figsize=(17, 6))\n",
        "sns.barplot(data=mean_mental_health_by_heart_disease, x='target', y='MentalHealth', palette='Set2')\n",
        "plt.xlabel('Heart Disease')\n",
        "plt.ylabel('Mean Mental Health')\n",
        "plt.title('Mean Mental Health by Heart Disease')\n",
        "plt.xticks([0, 1], ['No Heart Disease', 'Heart Disease'])\n",
        "plt.ylim(0, 60)  # Ajustar limite do eixo y se necessário\n",
        "plt.show()"
      ],
      "metadata": {
        "id": "c3Il1vlm2d6m"
      },
      "id": "c3Il1vlm2d6m",
      "execution_count": null,
      "outputs": []
    },
    {
      "cell_type": "markdown",
      "source": [
        "##### Notamos que as pessoas que possuem uma saude metal possuem uma pequena diferença em não ter problemas cardiacos, essa relação sozinha mostra que não é o unico fator a ser considerado"
      ],
      "metadata": {
        "id": "g-4skp6K8Eqk"
      },
      "id": "g-4skp6K8Eqk"
    },
    {
      "cell_type": "markdown",
      "source": [
        "**Analise da variavel Diabete, para isso terei que transformar a variavel em não categorica**"
      ],
      "metadata": {
        "id": "sJHoNtfy8xx5"
      },
      "id": "sJHoNtfy8xx5"
    },
    {
      "cell_type": "code",
      "source": [
        "# Checar se existem NaNs\n",
        "print(\"Quantidade de NaNs:\", df[\"Diabetic\"].isna().sum())"
      ],
      "metadata": {
        "id": "mUagN4XdbgUa"
      },
      "id": "mUagN4XdbgUa",
      "execution_count": null,
      "outputs": []
    },
    {
      "cell_type": "code",
      "source": [
        "# Verificar se restaram valores não convertidos\n",
        "print(\"Valores únicos em Diabetic:\", df[\"Diabetic\"].unique())"
      ],
      "metadata": {
        "id": "Yk2XxQy-cRxJ"
      },
      "id": "Yk2XxQy-cRxJ",
      "execution_count": null,
      "outputs": []
    },
    {
      "cell_type": "code",
      "source": [
        "df_Diabetic = df.groupby('Diabetic').size().reset_index(name='count')\n",
        "print(df_Diabetic)"
      ],
      "metadata": {
        "id": "wUB94x15ca0t"
      },
      "id": "wUB94x15ca0t",
      "execution_count": null,
      "outputs": []
    },
    {
      "cell_type": "code",
      "source": [
        "df['Diabetic'] = df['Diabetic'].replace({\n",
        "    'No': 0,\n",
        "    'No, borderline diabetes': 0,\n",
        "    'Yes': 1,\n",
        "    'Yes (during pregnancy)': 1,\n",
        "    'nan': -1\n",
        "})\n"
      ],
      "metadata": {
        "id": "a4ewjEy52d2_"
      },
      "id": "a4ewjEy52d2_",
      "execution_count": null,
      "outputs": []
    },
    {
      "cell_type": "code",
      "source": [
        "df['Diabetic'].head()"
      ],
      "metadata": {
        "id": "y7mSs4Cj2dzX"
      },
      "id": "y7mSs4Cj2dzX",
      "execution_count": null,
      "outputs": []
    },
    {
      "cell_type": "code",
      "source": [
        "df['Diabetic'].plot(kind='hist', bins = 100)"
      ],
      "metadata": {
        "id": "ICApJgVX2dv6"
      },
      "id": "ICApJgVX2dv6",
      "execution_count": null,
      "outputs": []
    },
    {
      "cell_type": "code",
      "source": [
        "df_diabetic = df[['Diabetic', 'target']].groupby(['Diabetic']).mean().reset_index()"
      ],
      "metadata": {
        "id": "5mVJdTxW2dsf"
      },
      "id": "5mVJdTxW2dsf",
      "execution_count": null,
      "outputs": []
    },
    {
      "cell_type": "code",
      "source": [
        "data_table.DataTable(df_diabetic, include_index=False, num_rows_per_page=10)"
      ],
      "metadata": {
        "id": "v26ga-QC9O-X"
      },
      "id": "v26ga-QC9O-X",
      "execution_count": null,
      "outputs": []
    },
    {
      "cell_type": "code",
      "source": [
        "plt.figure(figsize=(17, 6))\n",
        "sns.barplot(data=df_diabetic, x='target', y='Diabetic', hue='target', palette='Set2')\n",
        "plt.xlabel('Heart Disease')\n",
        "plt.ylabel('Mean Diabetic')\n",
        "plt.title('Mean Diabetic by Heart Disease')\n",
        "plt.xticks([0, 1], ['No Heart Disease', 'Heart Disease'])\n",
        "plt.ylim(0, 60)\n",
        "plt.legend([],[], frameon=False)  # Remove legenda se não quiser mostrar\n",
        "plt.show()\n",
        "\n"
      ],
      "metadata": {
        "id": "N9tcgOUd2dlP"
      },
      "id": "N9tcgOUd2dlP",
      "execution_count": null,
      "outputs": []
    },
    {
      "cell_type": "markdown",
      "source": [
        "Pelo grafico podemos informar que as pessoas que tem Diabete tem mais probalbilidade de ter problemas cardiacos"
      ],
      "metadata": {
        "id": "718QfUPg9jQG"
      },
      "id": "718QfUPg9jQG"
    },
    {
      "cell_type": "markdown",
      "source": [
        "##### Escolhemos agora a variabe BMI - IMC"
      ],
      "metadata": {
        "id": "DecwMee7935k"
      },
      "id": "DecwMee7935k"
    },
    {
      "cell_type": "code",
      "source": [
        "df['BMI'].plot(kind='hist', bins = 100)"
      ],
      "metadata": {
        "id": "LUUZlfXV94xL",
        "collapsed": true
      },
      "id": "LUUZlfXV94xL",
      "execution_count": null,
      "outputs": []
    },
    {
      "cell_type": "markdown",
      "source": [
        "Podemos notar que esta variavel possui uma boa distribuição"
      ],
      "metadata": {
        "id": "8Shs0lx4-Dci"
      },
      "id": "8Shs0lx4-Dci"
    },
    {
      "cell_type": "code",
      "source": [
        "## Without target\n",
        "sns.boxplot(data=df, y='BMI')"
      ],
      "metadata": {
        "id": "HtJflnQl2dhZ"
      },
      "id": "HtJflnQl2dhZ",
      "execution_count": null,
      "outputs": []
    },
    {
      "cell_type": "code",
      "source": [
        "# Plotar o boxplot\n",
        "plt.figure(figsize=(17,6))\n",
        "sns.boxplot(data=df, x='target', y='BMI')\n",
        "plt.xlabel('Heart Disease')\n",
        "plt.ylabel('BMI')\n",
        "plt.title('BMI Distribution by Heart Disease Status')\n",
        "plt.xticks([0, 1], ['No Heart Disease', 'Heart Disease'])\n",
        "plt.grid(True)  # Adicionar grades ao gráfico\n",
        "plt.tight_layout()  # Ajustar layout para melhor visualização\n",
        "plt.show()"
      ],
      "metadata": {
        "id": "1qZ2Zg5T2ddd"
      },
      "id": "1qZ2Zg5T2ddd",
      "execution_count": null,
      "outputs": []
    },
    {
      "cell_type": "markdown",
      "source": [
        "#### O gráfico mostra uma distribuição proporcional entre pessoas com e sem doenças cardíacas, com uma leve tendência de indivíduos com a doença apresentarem IMC ligeiramente mais elevado"
      ],
      "metadata": {
        "id": "Fy5ZFawj-U42"
      },
      "id": "Fy5ZFawj-U42"
    },
    {
      "cell_type": "code",
      "source": [
        "df[['BMI','target']].groupby('target').describe()"
      ],
      "metadata": {
        "id": "bJYp5t-B2dW5"
      },
      "id": "bJYp5t-B2dW5",
      "execution_count": null,
      "outputs": []
    },
    {
      "cell_type": "markdown",
      "source": [
        "Noto que os valores apresentados que o ICM sozinho não determinar a um risco maior de ter doenças cardiacas"
      ],
      "metadata": {
        "id": "m90cgNrW-peY"
      },
      "id": "m90cgNrW-peY"
    },
    {
      "cell_type": "markdown",
      "source": [
        "**Variaveis PhysicalHealth & MentalHealth**"
      ],
      "metadata": {
        "id": "DDA-4COB-6Ia"
      },
      "id": "DDA-4COB-6Ia"
    },
    {
      "cell_type": "code",
      "source": [
        "# Selecionar apenas as colunas de interesse\n",
        "cols = ['PhysicalHealth', 'MentalHealth', 'target']\n",
        "\n",
        "# Calcular correlação com o target\n",
        "correlations = df[cols].corr()['target'].drop('target')\n",
        "\n",
        "# Plotar gráfico de barras\n",
        "plt.figure(figsize=(17,6))\n",
        "sns.barplot(x=correlations.index, y=correlations.values, palette='Set2')\n",
        "plt.ylabel('Correlação com Doença Cardíaca')\n",
        "plt.title('Contribuição de PhysicalHealth e MentalHealth para Doença Cardíaca')\n",
        "plt.ylim(0,1)\n",
        "plt.show()"
      ],
      "metadata": {
        "id": "U35dWux72dTb"
      },
      "id": "U35dWux72dTb",
      "execution_count": null,
      "outputs": []
    },
    {
      "cell_type": "code",
      "source": [
        "df[df.target == 0]['PhysicalHealth'].plot(kind='hist', alpha=.5, color=\"green\")\n",
        "df[df.target == 1]['MentalHealth'].plot(kind='hist', alpha=.5, color=\"orange\")"
      ],
      "metadata": {
        "id": "nakW0U1YIYc0"
      },
      "id": "nakW0U1YIYc0",
      "execution_count": null,
      "outputs": []
    },
    {
      "cell_type": "code",
      "source": [
        "df[df.target == 0]['PhysicalHealth'].plot(kind='hist', alpha=.5, color=\"green\", density=True)\n",
        "df[df.target == 1]['MentalHealth'].plot(kind='hist', alpha=.5, color=\"orange\", density=True)"
      ],
      "metadata": {
        "id": "pqfI4wZyIygN"
      },
      "id": "pqfI4wZyIygN",
      "execution_count": null,
      "outputs": []
    },
    {
      "cell_type": "markdown",
      "source": [
        "#### A barra mais alta indica qual variável tem maior correlação com o risco de doenças cardíacas.\n",
        "\n",
        "Podemos observar que PhysicalHealth, significa que a saúde física tem mais impacto no risco.\n"
      ],
      "metadata": {
        "id": "5SgbaghDFai_"
      },
      "id": "5SgbaghDFai_"
    },
    {
      "cell_type": "markdown",
      "source": [
        "###Variaveis Categoricas"
      ],
      "metadata": {
        "id": "8P3K_WH7JAbJ"
      },
      "id": "8P3K_WH7JAbJ"
    },
    {
      "cell_type": "markdown",
      "source": [
        "**Variável Estado (State)**"
      ],
      "metadata": {
        "id": "2etcidaDJKqL"
      },
      "id": "2etcidaDJKqL"
    },
    {
      "cell_type": "code",
      "source": [
        "plt.figure(figsize=[17,3])\n",
        "plt.xticks(rotation=90)\n",
        "sns.countplot(data=df, x='State', hue='target')"
      ],
      "metadata": {
        "id": "q9naHGt3I_23"
      },
      "id": "q9naHGt3I_23",
      "execution_count": null,
      "outputs": []
    },
    {
      "cell_type": "markdown",
      "source": [
        "aqui apresenta-se a distribuição de pessoas com ou sem doenças cardiacas por estado"
      ],
      "metadata": {
        "id": "T8AonrWpJZD7"
      },
      "id": "T8AonrWpJZD7"
    },
    {
      "cell_type": "code",
      "source": [
        "df.pivot_table(index='State', values='target', aggfunc=[len, sum, np.mean]).sort_values(by=[('mean','target')], ascending = False)"
      ],
      "metadata": {
        "id": "lijwDDlp2dP8"
      },
      "id": "lijwDDlp2dP8",
      "execution_count": null,
      "outputs": []
    },
    {
      "cell_type": "code",
      "source": [
        "pd.crosstab(df['State'], df['target'])"
      ],
      "metadata": {
        "id": "pKENLSur2dM4"
      },
      "id": "pKENLSur2dM4",
      "execution_count": null,
      "outputs": []
    },
    {
      "cell_type": "markdown",
      "source": [
        "**Variavel Asthma**"
      ],
      "metadata": {
        "id": "ZEDqT3OQKE68"
      },
      "id": "ZEDqT3OQKE68"
    },
    {
      "cell_type": "code",
      "source": [
        "plt.figure(figsize=[17,6])\n",
        "plt.xticks(rotation=90)\n",
        "sns.countplot(data=df, x='Asthma', hue='target')"
      ],
      "metadata": {
        "id": "FVpuoGqj2dJ5"
      },
      "id": "FVpuoGqj2dJ5",
      "execution_count": null,
      "outputs": []
    },
    {
      "cell_type": "markdown",
      "source": [
        "Preliminarmente podemos avaliar que o grafico apresenta dados que nos informam que as pessoas que não tem asma são a maioria com problemas cardiacos"
      ],
      "metadata": {
        "id": "uvWYq-LYKUVX"
      },
      "id": "uvWYq-LYKUVX"
    },
    {
      "cell_type": "code",
      "source": [
        "df_asma_mean = df[['Asthma','target']].groupby(['Asthma']).mean()\n",
        "print(df_asma_mean)"
      ],
      "metadata": {
        "id": "KKUQrv-b2dG-"
      },
      "id": "KKUQrv-b2dG-",
      "execution_count": null,
      "outputs": []
    },
    {
      "cell_type": "code",
      "source": [
        "df.select_dtypes(include=['object']).isnull().sum()"
      ],
      "metadata": {
        "id": "RcqVPmBc2dDs"
      },
      "id": "RcqVPmBc2dDs",
      "execution_count": null,
      "outputs": []
    },
    {
      "cell_type": "code",
      "source": [
        "# Dados originais em um formato pivot\n",
        "data = {\n",
        "    'Asthma': ['No', 'Yes'],\n",
        "    'HeartDisease': [0.08, 0.12]\n",
        "}\n",
        "\n",
        "df_asma_mean = pd.DataFrame(data)\n",
        "\n",
        "# Verificar as colunas do DataFrame\n",
        "print(\"Colunas do DataFrame:\", df_asma_mean.columns)\n",
        "\n",
        "# Verifique se as colunas 'HeartDisease' (target) e 'Asthma' existem\n",
        "if 'HeartDisease' in df_asma_mean.columns and 'Asthma' in df_asma_mean.columns:\n",
        "    plt.figure(figsize=[17,6])\n",
        "    plt.xticks(rotation=90)\n",
        "    sns.barplot(data=df_asma_mean, x='Asthma', y='HeartDisease')\n",
        "    plt.xlabel('Asthma')\n",
        "    plt.ylabel('Mean Heart Disease')\n",
        "    plt.title('Mean Heart Disease by Asthma Status')\n",
        "    plt.show()\n",
        "else:\n",
        "    print(\"As colunas 'HeartDisease' e/ou 'Asthma' não existem no DataFrame\")"
      ],
      "metadata": {
        "id": "CKFJ9_2F2c95"
      },
      "id": "CKFJ9_2F2c95",
      "execution_count": null,
      "outputs": []
    },
    {
      "cell_type": "markdown",
      "source": [
        "O eixo x mostra o status de asma (Asthma) com duas categorias: No (não tem asma) e Yes (tem asma).\n",
        "\n",
        "O eixo y mostra a média de ocorrência de doenças cardíacas (HeartDisease) para cada grupo.\n",
        "\n",
        "Cada barra representa a probabilidade média de doenças cardíacas em pessoas com ou sem asma."
      ],
      "metadata": {
        "id": "I9BJVx8zLmu3"
      },
      "id": "I9BJVx8zLmu3"
    },
    {
      "cell_type": "markdown",
      "source": [
        "Pessoas sem asma (No) têm uma média de doenças cardíacas de 0,08 (8%).\n",
        "\n",
        "Pessoas com asma (Yes) têm uma média de doenças cardíacas de 0,12 (12%).\n",
        "\n",
        "Isso indica que, neste conjunto de dados, ter asma está associado a um risco ligeiramente maior de desenvolver doenças cardíacas."
      ],
      "metadata": {
        "id": "b21zLf8qLoCN"
      },
      "id": "b21zLf8qLoCN"
    },
    {
      "cell_type": "markdown",
      "source": [
        "#### Variavel AlcoholDrinking"
      ],
      "metadata": {
        "id": "IDEA24YwL8Q1"
      },
      "id": "IDEA24YwL8Q1"
    },
    {
      "cell_type": "code",
      "source": [
        "plt.figure(figsize=[17,6])\n",
        "plt.xticks(rotation=90)\n",
        "sns.countplot(data=df, x='target', hue='AlcoholDrinking')"
      ],
      "metadata": {
        "id": "8whDbkdIMCx1"
      },
      "id": "8whDbkdIMCx1",
      "execution_count": null,
      "outputs": []
    },
    {
      "cell_type": "markdown",
      "source": [
        "Analisando o grafico e vendo a correlação de pessoas com doenças cardiacas e o consumo de alcool, denota-se um nmero quase irrisorio de pessoas que tomam alcool e tem doenças cardiacas. Tal amostra por ser muito discrepante pode mostrar certo problema na propria amostra, talvez com pessoas tendo vegonha ou medo de admitir consumir alcool ja tendo uma doença cardiaca"
      ],
      "metadata": {
        "id": "YKfS2RnJL_5C"
      },
      "id": "YKfS2RnJL_5C"
    },
    {
      "cell_type": "code",
      "source": [
        "df_drinhing_mean = df[['AlcoholDrinking','target']].groupby(['AlcoholDrinking']).mean()\n",
        "print(df_drinhing_mean)\n"
      ],
      "metadata": {
        "id": "kHUfjPSAMc9M"
      },
      "id": "kHUfjPSAMc9M",
      "execution_count": null,
      "outputs": []
    },
    {
      "cell_type": "code",
      "source": [
        "# Dados originais em um formato pivot\n",
        "data_drink =df_drinhing_mean\n",
        "\n",
        "\n",
        "df_drinhing_mean = pd.DataFrame(data_drink)\n",
        "\n",
        "# Verificar as colunas do DataFrame\n",
        "print(\"Colunas do DataFrame:\", df_drinhing_mean.columns)\n",
        "\n",
        "# Verifique se as colunas 'HeartDisease' e 'AlcoholDrinking' existem\n",
        "if 'HeartDisease' in df_drinhing_mean.columns and 'AlcoholDrinking' in df_drinhing_mean.columns:\n",
        "    plt.figure(figsize=[17,6])\n",
        "    plt.xticks(rotation=90)\n",
        "    sns.barplot(data=df_drinhing_mean, x='AlcoholDrinking', y='HeartDisease')\n",
        "    plt.xlabel('Alcohol Drinking')\n",
        "    plt.ylabel('Mean Heart Disease')\n",
        "    plt.title('Mean Heart Disease by Alcohol Drinking Status')\n",
        "    plt.show()\n",
        "else:\n",
        "    print(\"As colunas 'HeartDisease' e/ou 'AlcoholDrinking' não existem no DataFrame\")"
      ],
      "metadata": {
        "id": "ARpom15YMnmC"
      },
      "id": "ARpom15YMnmC",
      "execution_count": null,
      "outputs": []
    },
    {
      "cell_type": "markdown",
      "source": [
        "###### E neste grafico, um surpreendente diferença que mostra que pessoas que não consumem alcool tendem a ter quase o dobro a mais de chance de ter doenças cardiacas (de 5 para 9 por cento), com a diferença percentual absoluta tambem sendo de 4 por cento.  Porem, essa analise não pode ser condiderada como verdadeira, devido ao alto numero de falantes, ou seja, sem informação para a coluna."
      ],
      "metadata": {
        "id": "o0u4bQUhMyRe"
      },
      "id": "o0u4bQUhMyRe"
    },
    {
      "cell_type": "markdown",
      "source": [
        "#### **4. Definição do target, variáveis e divisão dos dados**"
      ],
      "metadata": {
        "id": "MATORTXJBkjY"
      },
      "id": "MATORTXJBkjY"
    },
    {
      "cell_type": "markdown",
      "source": [
        "####**Preparação de Dados**"
      ],
      "metadata": {
        "id": "bcheK-_8L9Cb"
      },
      "id": "bcheK-_8L9Cb"
    },
    {
      "cell_type": "code",
      "source": [
        "# devido ter alterados os valores das variaveis estou carregndo novamente\n",
        "df =read_dataset()"
      ],
      "metadata": {
        "id": "4rU5xneV2cyK"
      },
      "id": "4rU5xneV2cyK",
      "execution_count": null,
      "outputs": []
    },
    {
      "cell_type": "code",
      "source": [
        "df.columns"
      ],
      "metadata": {
        "id": "X7p0wP2SB6Hu"
      },
      "id": "X7p0wP2SB6Hu",
      "execution_count": null,
      "outputs": []
    },
    {
      "cell_type": "markdown",
      "source": [
        "Nulos nas variaveis categoricas"
      ],
      "metadata": {
        "id": "U3oYFUAsOyZz"
      },
      "id": "U3oYFUAsOyZz"
    },
    {
      "cell_type": "code",
      "source": [
        "df.select_dtypes(include=['object']).isnull().sum()"
      ],
      "metadata": {
        "id": "0XGFc-TfOUie"
      },
      "id": "0XGFc-TfOUie",
      "execution_count": null,
      "outputs": []
    },
    {
      "cell_type": "markdown",
      "source": [
        "Como não é possível determinar com segurança como preencher os valores nulos — o uso da média ou da moda poderia gerar vieses e impactar negativamente a análise, visto que algumas features podem ser sensíveis e alterar o comportamento do modelo, a solução adotada será criar uma categoria adicional para representar os valores nulos. Embora fosse possível excluir as linhas com nulos, não há garantia de como isso afetaria as previsões. Entretanto, a coluna HeartDisease_FamilyHistory, por apresentar muitos valores ausentes, será removida da análise, enquanto os registros com valor nulo na coluna target serão excluídos."
      ],
      "metadata": {
        "id": "9X3fzh3WO9RU"
      },
      "id": "9X3fzh3WO9RU"
    },
    {
      "cell_type": "code",
      "source": [
        "# Exclusão de coluna com muitos valores faltantes\n",
        "df.drop(columns=['HeartDisease_FamilyHistory'], inplace=True)\n"
      ],
      "metadata": {
        "id": "HRX8dUBMYuev"
      },
      "id": "HRX8dUBMYuev",
      "execution_count": null,
      "outputs": []
    },
    {
      "cell_type": "code",
      "source": [
        "df.columns"
      ],
      "metadata": {
        "id": "yAN1VVKsP83U"
      },
      "id": "yAN1VVKsP83U",
      "execution_count": null,
      "outputs": []
    },
    {
      "cell_type": "code",
      "source": [
        "# Renomear a coluna HeartDisease para target\n",
        "target_col = 'HeartDisease'  # ou df.columns[0] se for a primeira coluna\n",
        "df.rename(columns={target_col: 'target'}, inplace=True)"
      ],
      "metadata": {
        "id": "0yYqPDjKOUVg"
      },
      "id": "0yYqPDjKOUVg",
      "execution_count": null,
      "outputs": []
    },
    {
      "cell_type": "code",
      "source": [
        "df.select_dtypes(include=['object']).isnull().sum()"
      ],
      "metadata": {
        "id": "5nM9CiksOUZF"
      },
      "id": "5nM9CiksOUZF",
      "execution_count": null,
      "outputs": []
    },
    {
      "cell_type": "code",
      "source": [
        "df.select_dtypes(include=['object']).isnull().sum()"
      ],
      "metadata": {
        "id": "qJOXU2MMOURF"
      },
      "id": "qJOXU2MMOURF",
      "execution_count": null,
      "outputs": []
    },
    {
      "cell_type": "code",
      "source": [
        "df.head(2)"
      ],
      "metadata": {
        "id": "bmYkyRHtaFsC"
      },
      "id": "bmYkyRHtaFsC",
      "execution_count": null,
      "outputs": []
    },
    {
      "cell_type": "code",
      "source": [
        "print(\"Antes:\", len(df))\n",
        "df.dropna(subset=[\"target\"], inplace=True)\n",
        "print(\"Depois:\", len(df))\n"
      ],
      "metadata": {
        "id": "IbDuz4g4aQkB"
      },
      "id": "IbDuz4g4aQkB",
      "execution_count": null,
      "outputs": []
    },
    {
      "cell_type": "code",
      "source": [
        "# Transformação de tipos\n",
        "df['target'] = df['target'].replace({'No':0,'Yes':1}).astype(int)"
      ],
      "metadata": {
        "id": "1hWqGpDTZS8Z"
      },
      "id": "1hWqGpDTZS8Z",
      "execution_count": null,
      "outputs": []
    },
    {
      "cell_type": "code",
      "source": [
        "# ==================================\n",
        "# 1. Definição de features e target\n",
        "# ==================================\n",
        "\n",
        "target_col = \"target\"\n",
        "\n",
        "features = [col for col in df.columns if col != target_col]\n",
        "\n",
        "X = df[features]\n",
        "y = df[target_col]\n"
      ],
      "metadata": {
        "id": "OUyo1ElkZSX_"
      },
      "id": "OUyo1ElkZSX_",
      "execution_count": null,
      "outputs": []
    },
    {
      "cell_type": "code",
      "source": [
        "# ==================================\n",
        "# 2. Identificar colunas numéricas e categóricas\n",
        "# ==================================\n",
        "num_features = X.select_dtypes(include=[\"int64\", \"float64\"]).columns.tolist()\n",
        "cat_features = X.select_dtypes(include=[\"object\", \"category\", \"bool\"]).columns.tolist()\n",
        "\n",
        "print(\"Numéricas:\", num_features)\n",
        "print(\"Categóricas:\", cat_features)"
      ],
      "metadata": {
        "id": "Slwk3CXFgBjz"
      },
      "id": "Slwk3CXFgBjz",
      "execution_count": null,
      "outputs": []
    },
    {
      "cell_type": "code",
      "source": [
        "# ==================================\n",
        "# 3. Pré-processamento\n",
        "# ==================================\n",
        "numeric_transformer = Pipeline(steps=[\n",
        "    (\"scaler\", StandardScaler())\n",
        "])"
      ],
      "metadata": {
        "id": "mxRjf9qXgBbq"
      },
      "id": "mxRjf9qXgBbq",
      "execution_count": null,
      "outputs": []
    },
    {
      "cell_type": "code",
      "source": [
        "categorical_transformer = Pipeline(steps=[\n",
        "    (\"encoder\", OneHotEncoder(handle_unknown=\"ignore\", sparse_output=False))\n",
        "])"
      ],
      "metadata": {
        "id": "YMBD113WgBVX"
      },
      "id": "YMBD113WgBVX",
      "execution_count": null,
      "outputs": []
    },
    {
      "cell_type": "code",
      "source": [
        "preprocessor = ColumnTransformer(\n",
        "    transformers=[\n",
        "        (\"num\", numeric_transformer, num_features),\n",
        "        (\"cat\", categorical_transformer, cat_features)\n",
        "    ]\n",
        ")"
      ],
      "metadata": {
        "id": "mgx0oqtbgb0I"
      },
      "id": "mgx0oqtbgb0I",
      "execution_count": null,
      "outputs": []
    },
    {
      "cell_type": "code",
      "source": [
        "print(preprocessor)"
      ],
      "metadata": {
        "id": "vfedFE4Fgbp9"
      },
      "id": "vfedFE4Fgbp9",
      "execution_count": null,
      "outputs": []
    },
    {
      "cell_type": "markdown",
      "source": [
        "# ==================================\n",
        "# 4. Construir pipeline reprodutível\n",
        "# =================================="
      ],
      "metadata": {
        "id": "WyiPHrarKJFH"
      },
      "id": "WyiPHrarKJFH"
    },
    {
      "cell_type": "code",
      "source": [
        "from sklearn.model_selection import train_test_split\n",
        "from sklearn.model_selection import StratifiedKFold, cross_validate\n",
        "\n",
        "# ===============================\n",
        "# Seed para reprodutibilidade\n",
        "# ===============================\n",
        "SEED = 42\n",
        "\n",
        "# Modelos candidatos\n",
        "modelos_candidates = {\n",
        "    \"Dummy\": DummyClassifier(strategy=\"most_frequent\"),\n",
        "    # Serve como baseline: sempre prediz a classe mais frequente\n",
        "    \"SVC\": SVC(probability=True, random_state=SEED),\n",
        "     # Classificador linear ou não-linear, bom para problemas de alta dimensão\n",
        "    \"LogReg\": LogisticRegression(max_iter=500, random_state=SEED),\n",
        "     # Modelo linear interpretável, rápido e robusto\n",
        "    \"KNN\": KNeighborsClassifier(n_neighbors=5),\n",
        "     # Baseado em vizinhos, útil quando classes estão próximas em clusters\n",
        "    \"DecisionTree\": DecisionTreeClassifier(max_depth=5, random_state=SEED),\n",
        "     # Fácil de interpretar, captura relações não-lineares\n",
        "    \"RandomForest_light\": RandomForestClassifier(\n",
        "        n_estimators=50, max_depth=5, random_state=SEED, n_jobs=-1\n",
        "    )\n",
        "     # Ensemble de árvores, reduz overfitting e melhora robustez\n",
        "\n",
        "}\n",
        "\n",
        "# Validação cruzada\n",
        "# - Avalia o desempenho do modelo em diferentes divisões do treino, evitando overfitting\n",
        "# - Permite comparar modelos de forma justa antes de treinar no conjunto completo\n",
        "cv = StratifiedKFold(n_splits=5, shuffle=True, random_state=SEED)\n",
        "\n",
        "scoring = {\n",
        "    \"accuracy\": \"accuracy\",\n",
        "    \"f1\": \"f1_weighted\",\n",
        "    \"roc_auc\": \"roc_auc\",\n",
        "    \"precision\": \"precision_weighted\",\n",
        "    \"recall\": \"recall_weighted\"\n",
        "}\n",
        "\n",
        "# Coluna alvo 'target'\n",
        "target = \"target\"\n",
        "\n",
        "# Separar features e target\n",
        "X = df.drop(columns=[target])\n",
        "y = df[target]\n",
        "\n",
        "\n",
        "# Divisão treino/teste (opcional, mas recomendado)\n",
        "X_train, X_test, y_train, y_test = train_test_split(\n",
        "    X, y, test_size=0.2, random_state=SEED, stratify=y\n",
        ")\n",
        "\n",
        "\n",
        "# Lista para armazenar resultados\n",
        "resultados_rapidos = []\n",
        "\n",
        "for nome, modelo in modelos_candidates.items():\n",
        "    pipe = Pipeline([\n",
        "        (\"preprocessor\", preprocessor),\n",
        "        (\"modelo\", modelo)\n",
        "    ])\n",
        "\n",
        "    scores = cross_validate(\n",
        "        pipe,\n",
        "        X_train,\n",
        "        y_train,\n",
        "        cv=cv,\n",
        "        scoring=scoring,\n",
        "        return_train_score=False\n",
        "    )\n",
        "\n",
        "    # Média das métricas de validação cruzada\n",
        "    media_scores = {m: round(v.mean(), 3) for m, v in scores.items() if \"test_\" in m}\n",
        "    media_scores[\"modelo\"] = nome\n",
        "    resultados_rapidos.append(media_scores)\n",
        "\n",
        "\n",
        "\n",
        "# Transformar em DataFrame e mostrar\n",
        "df_resultados = pd.DataFrame(resultados_rapidos)\n",
        "print(df_resultados)\n"
      ],
      "metadata": {
        "id": "0qHrPmBvp0_i"
      },
      "id": "0qHrPmBvp0_i",
      "execution_count": null,
      "outputs": []
    },
    {
      "cell_type": "code",
      "source": [
        "# ===============================\n",
        "# 8. Seleção do melhor modelo (ex: pelo F1)\n",
        "# ===============================\n",
        "melhor_nome = df_resultados.sort_values(\"test_f1\", ascending=False).iloc[0][\"modelo\"]\n",
        "melhor_modelo = modelos_candidates[melhor_nome]\n",
        "print(f\"Melhor modelo selecionado: {melhor_nome}\")\n",
        "\n",
        "# ===============================\n",
        "# 9. Treinar o melhor modelo no treino completo\n",
        "# ===============================\n",
        "pipe_final = Pipeline([\n",
        "    (\"preprocessor\", preprocessor),\n",
        "    (\"modelo\", melhor_modelo)\n",
        "])\n",
        "\n",
        "pipe_final.fit(X_train, y_train)\n",
        "\n",
        "# ===============================\n",
        "# 10. Avaliação no teste (opcional)\n",
        "# ===============================\n",
        "y_pred = pipe_final.predict(X_test)\n",
        "from sklearn.metrics import classification_report\n",
        "print(classification_report(y_test, y_pred))\n"
      ],
      "metadata": {
        "id": "629PcE1_m3Pr"
      },
      "id": "629PcE1_m3Pr",
      "execution_count": null,
      "outputs": []
    },
    {
      "cell_type": "code",
      "source": [
        "# ===============================\n",
        "# Seed\n",
        "# ===============================\n",
        "SEED = 42\n",
        "\n",
        "# ===============================\n",
        "# Separar features e target\n",
        "# ===============================\n",
        "target = \"target\"  # substituir pelo nome da coluna alvo\n",
        "X = df.drop(columns=[target])\n",
        "y = df[target]\n",
        "\n",
        "# ===============================\n",
        "# Divisão treino/teste\n",
        "# ===============================\n",
        "X_train, X_test, y_train, y_test = train_test_split(\n",
        "    X, y, test_size=0.2, random_state=SEED, stratify=y\n",
        ")\n",
        "\n",
        "# ===============================\n",
        "# Preprocessor\n",
        "# ===============================\n",
        "colunas_numericas = X_train.select_dtypes(include=[\"int64\", \"float64\"]).columns.tolist()\n",
        "colunas_categoricas = X_train.select_dtypes(include=[\"object\", \"category\"]).columns.tolist()\n",
        "\n",
        "preprocessor = ColumnTransformer(\n",
        "    transformers=[\n",
        "        (\"num\", StandardScaler(), colunas_numericas),\n",
        "        (\"cat\", OneHotEncoder(handle_unknown=\"ignore\"), colunas_categoricas)\n",
        "    ]\n",
        ")\n",
        "\n",
        "# ===============================\n",
        "#  Modelos candidatos e grids\n",
        "# ===============================\n",
        "modelos_candidates = {\n",
        "    \"Dummy\": {\n",
        "        \"modelo\": DummyClassifier(strategy=\"most_frequent\"),\n",
        "        \"param_grid\": {}\n",
        "    },\n",
        "    \"LogReg\": {\n",
        "        \"modelo\": LogisticRegression(max_iter=500, random_state=SEED),\n",
        "        \"param_grid\": {\n",
        "            \"modelo__C\": [0.01, 0.1, 1, 10]\n",
        "        }\n",
        "    },\n",
        "    \"SVC\": {\n",
        "        \"modelo\": SVC(probability=True, random_state=SEED),\n",
        "        \"param_grid\": {\n",
        "            \"modelo__C\": [0.1, 1, 10],\n",
        "            \"modelo__kernel\": [\"linear\", \"rbf\"]\n",
        "        }\n",
        "    },\n",
        "    \"KNN\": {\n",
        "        \"modelo\": KNeighborsClassifier(),\n",
        "        \"param_grid\": {\n",
        "            \"modelo__n_neighbors\": [3,5,7]\n",
        "        }\n",
        "    },\n",
        "    \"DecisionTree\": {\n",
        "        \"modelo\": DecisionTreeClassifier(random_state=SEED),\n",
        "        \"param_grid\": {\n",
        "            \"modelo__max_depth\": [3,5,10,None]\n",
        "        }\n",
        "    },\n",
        "    \"RandomForest_light\": {\n",
        "        \"modelo\": RandomForestClassifier(random_state=SEED, n_jobs=-1),\n",
        "        \"param_grid\": {\n",
        "            \"modelo__n_estimators\": [50,100],\n",
        "            \"modelo__max_depth\": [5,10,None]\n",
        "        }\n",
        "    }\n",
        "}\n",
        "\n",
        "# ===============================\n",
        "# Validação cruzada e GridSearchCV\n",
        "# Motivo da validação cruzada:\n",
        "# - Avalia o desempenho do modelo em diferentes divisões do treino, evitando overfitting\n",
        "# - Permite comparar modelos de forma justa antes de treinar no conjunto completo\n",
        "# ===============================\n",
        "cv = StratifiedKFold(n_splits=5, shuffle=True, random_state=SEED)\n",
        "scoring = {\n",
        "    \"accuracy\": \"accuracy\",\n",
        "    \"f1\": \"f1_weighted\",\n",
        "    \"roc_auc\": \"roc_auc\",\n",
        "    \"precision\": \"precision_weighted\",\n",
        "    \"recall\": \"recall_weighted\"\n",
        "}\n",
        "\n",
        "resultados_grid = []\n",
        "\n",
        "for nome, info in modelos_candidates.items():\n",
        "    print(f\"\\nExecutando GridSearchCV para {nome}...\")\n",
        "    pipe = Pipeline([\n",
        "        (\"preprocessor\", preprocessor),\n",
        "        (\"modelo\", info[\"modelo\"])\n",
        "    ])\n",
        "\n",
        "    grid = GridSearchCV(\n",
        "        estimator=pipe,\n",
        "        param_grid=info[\"param_grid\"],\n",
        "        cv=cv,\n",
        "        scoring=scoring,\n",
        "        refit=\"f1\",  # escolher o melhor pelo F1 ponderado\n",
        "        n_jobs=-1,\n",
        "        verbose=0\n",
        "    )\n",
        "\n",
        "    grid.fit(X_train, y_train)\n",
        "\n",
        "    resultados_grid.append({\n",
        "        \"modelo\": nome,\n",
        "        \"melhores_params\": grid.best_params_,\n",
        "        \"melhor_f1\": round(grid.best_score_, 3),\n",
        "        \"melhor_estimador\": grid.best_estimator_\n",
        "    })\n",
        "\n",
        "# ===============================\n",
        "# 8. Mostrar resultados\n",
        "# ===============================\n",
        "df_grid_results = pd.DataFrame(resultados_grid)\n",
        "print(\"\\nResultados GridSearchCV para todos os modelos:\\n\")\n",
        "print(df_grid_results[[\"modelo\", \"melhores_params\", \"melhor_f1\"]])\n"
      ],
      "metadata": {
        "id": "NCCr0gtBn99s"
      },
      "id": "NCCr0gtBn99s",
      "execution_count": null,
      "outputs": []
    },
    {
      "cell_type": "code",
      "source": [
        "from sklearn.metrics import classification_report, roc_auc_score\n",
        "\n",
        "print(\"\\n================ Avaliação no conjunto de teste ================\\n\")\n",
        "\n",
        "for resultado in resultados_grid:\n",
        "    nome = resultado[\"modelo\"]\n",
        "    pipe = resultado[\"melhor_estimador\"]\n",
        "\n",
        "    # Previsões no teste\n",
        "    y_pred = pipe.predict(X_test)\n",
        "\n",
        "    # Probabilidades (necessário para ROC-AUC)\n",
        "    if hasattr(pipe.named_steps[\"modelo\"], \"predict_proba\"):\n",
        "        y_proba = pipe.predict_proba(X_test)[:, 1]  # Para a classe positiva\n",
        "        roc_auc = round(roc_auc_score(y_test, y_proba), 3)\n",
        "    else:\n",
        "        roc_auc = None\n",
        "\n",
        "    print(f\"Modelo: {nome}\")\n",
        "    print(\"Classification Report:\")\n",
        "    print(classification_report(y_test, y_pred))\n",
        "    if roc_auc:\n",
        "        print(f\"ROC-AUC: {roc_auc}\")\n",
        "    print(\"-\" * 60)\n"
      ],
      "metadata": {
        "id": "pQgU41wJwlIh"
      },
      "id": "pQgU41wJwlIh",
      "execution_count": null,
      "outputs": []
    },
    {
      "cell_type": "code",
      "source": [
        "# ===============================\n",
        "# Seed e CV\n",
        "# ===============================\n",
        "SEED = 42\n",
        "cv = StratifiedKFold(n_splits=5, shuffle=True, random_state=SEED)\n",
        "scoring = {\n",
        "    \"accuracy\": \"accuracy\",\n",
        "    \"f1\": \"f1_weighted\",\n",
        "    \"roc_auc\": \"roc_auc\",\n",
        "    \"precision\": \"precision_weighted\",\n",
        "    \"recall\": \"recall_weighted\"\n",
        "}\n",
        "\n",
        "# ===============================\n",
        "# Preprocessor\n",
        "# ===============================\n",
        "colunas_numericas = X_train.select_dtypes(include=[\"int64\", \"float64\"]).columns.tolist()\n",
        "colunas_categoricas = X_train.select_dtypes(include=[\"object\", \"category\"]).columns.tolist()\n",
        "\n",
        "preprocessor = ColumnTransformer(\n",
        "    transformers=[\n",
        "        (\"num\", StandardScaler(), colunas_numericas),\n",
        "        (\"cat\", OneHotEncoder(handle_unknown=\"ignore\"), colunas_categoricas)\n",
        "    ]\n",
        ")\n",
        "\n",
        "# ===============================\n",
        "# Modelos candidatos e grids\n",
        "# ===============================\n",
        "modelos_candidates = {\n",
        "    \"Dummy\": {\n",
        "        \"modelo\": DummyClassifier(strategy=\"most_frequent\"),\n",
        "        \"param_grid\": {}\n",
        "    },\n",
        "    \"LogReg\": {\n",
        "        \"modelo\": LogisticRegression(max_iter=500, random_state=SEED),\n",
        "        \"param_grid\": {\"modelo__C\": [0.01, 0.1, 1, 10]}\n",
        "    },\n",
        "    \"SVC\": {\n",
        "        \"modelo\": SVC(probability=True, random_state=SEED),\n",
        "        \"param_grid\": {\"modelo__C\": [0.1,1,10], \"modelo__kernel\": [\"linear\",\"rbf\"]}\n",
        "    },\n",
        "    \"KNN\": {\n",
        "        \"modelo\": KNeighborsClassifier(),\n",
        "        \"param_grid\": {\"modelo__n_neighbors\": [3,5,7]}\n",
        "    },\n",
        "    \"DecisionTree\": {\n",
        "        \"modelo\": DecisionTreeClassifier(random_state=SEED),\n",
        "        \"param_grid\": {\"modelo__max_depth\": [3,5,10,None]}\n",
        "    },\n",
        "    \"RandomForest_light\": {\n",
        "        \"modelo\": RandomForestClassifier(random_state=SEED, n_jobs=-1),\n",
        "        \"param_grid\": {\"modelo__n_estimators\": [50,100], \"modelo__max_depth\": [5,10,None]}\n",
        "    }\n",
        "}\n",
        "\n",
        "# ===============================\n",
        "# GridSearchCV para todos os modelos\n",
        "# ===============================\n",
        "resultados_grid = []\n",
        "\n",
        "for nome, info in modelos_candidates.items():\n",
        "    print(f\"\\nExecutando GridSearchCV para {nome}...\")\n",
        "\n",
        "    pipe = Pipeline([\n",
        "        (\"preprocessor\", preprocessor),\n",
        "        (\"modelo\", info[\"modelo\"])\n",
        "    ])\n",
        "\n",
        "    grid = GridSearchCV(\n",
        "        estimator=pipe,\n",
        "        param_grid=info[\"param_grid\"],\n",
        "        cv=cv,\n",
        "        scoring=scoring,\n",
        "        refit=\"f1\",\n",
        "        n_jobs=-1,\n",
        "        verbose=0\n",
        "    )\n",
        "\n",
        "    grid.fit(X_train, y_train)\n",
        "\n",
        "    resultados_grid.append({\n",
        "        \"modelo\": nome,\n",
        "        \"melhores_params\": grid.best_params_,\n",
        "        \"melhor_f1\": round(grid.best_score_,3),\n",
        "        \"melhor_estimador\": grid.best_estimator_\n",
        "    })\n",
        "\n",
        "df_grid_results = pd.DataFrame(resultados_grid)\n",
        "print(\"\\nResultados GridSearchCV resumidos:\\n\")\n",
        "print(df_grid_results[[\"modelo\",\"melhores_params\",\"melhor_f1\"]])\n",
        "\n",
        "# ===============================\n",
        "# Avaliação no conjunto de teste\n",
        "# ===============================\n",
        "f1_test = []\n",
        "\n",
        "print(\"\\n================ Avaliação no conjunto de teste ================\\n\")\n",
        "for resultado in resultados_grid:\n",
        "    nome = resultado[\"modelo\"]\n",
        "    pipe = resultado[\"melhor_estimador\"]\n",
        "\n",
        "    y_pred = pipe.predict(X_test)\n",
        "\n",
        "    # ROC-AUC se disponível\n",
        "    if hasattr(pipe.named_steps[\"modelo\"], \"predict_proba\"):\n",
        "        y_proba = pipe.predict_proba(X_test)[:,1]\n",
        "        roc_auc = round(roc_auc_score(y_test, y_proba),3)\n",
        "    else:\n",
        "        roc_auc = None\n",
        "\n",
        "    f1_val = f1_score(y_test, y_pred, average=\"weighted\")\n",
        "    f1_test.append({\"modelo\": nome, \"f1_test\": f1_val})\n",
        "\n",
        "    print(f\"Modelo: {nome}\")\n",
        "    print(\"Classification Report:\")\n",
        "    print(classification_report(y_test, y_pred))\n",
        "    if roc_auc:\n",
        "        print(f\"ROC-AUC: {roc_auc}\")\n",
        "    print(\"-\"*60)\n",
        "\n",
        "# ===============================\n",
        "# Gráfico comparativo do F1 no teste\n",
        "# ===============================\n",
        "df_f1_test = pd.DataFrame(f1_test)\n",
        "\n",
        "plt.figure(figsize=(10,6))\n",
        "sns.barplot(data=df_f1_test, x=\"modelo\", y=\"f1_test\", palette=\"viridis\")\n",
        "plt.title(\"F1 ponderado no conjunto de teste por modelo\")\n",
        "plt.ylabel(\"F1 ponderado\")\n",
        "plt.xlabel(\"Modelo\")\n",
        "plt.ylim(0,1)\n",
        "plt.xticks(rotation=45)\n",
        "plt.show()\n"
      ],
      "metadata": {
        "id": "gqv0rJUpgbhB"
      },
      "id": "gqv0rJUpgbhB",
      "execution_count": null,
      "outputs": []
    },
    {
      "cell_type": "code",
      "source": [],
      "metadata": {
        "id": "ALD4a3hHgbXU"
      },
      "id": "ALD4a3hHgbXU",
      "execution_count": null,
      "outputs": []
    },
    {
      "cell_type": "code",
      "source": [
        "# Preparar dados\n",
        "df_plot = ranking_final.copy()\n",
        "df_plot[\"ROC_AUC_plot\"] = df_plot[\"ROC_AUC\"].fillna(0)  # preencher NaN para plotar\n",
        "\n",
        "plt.figure(figsize=(12,6))\n",
        "sns.set(style=\"whitegrid\")\n",
        "\n",
        "# Barras de F1\n",
        "sns.barplot(\n",
        "    x=\"Modelo\", y=\"F1\", hue=\"Fase\", data=df_plot,\n",
        "    palette=\"pastel\", edgecolor=\"black\"\n",
        ")\n",
        "\n",
        "# Adicionar labels de F1 sobre as barras\n",
        "for i, row in df_plot.iterrows():\n",
        "    plt.text(i, row.F1 + 0.01, f\"{row.F1:.2f}\", ha='center', fontsize=9)\n",
        "\n",
        "# Linhas de ROC AUC\n",
        "for i, row in df_plot.iterrows():\n",
        "    if row.ROC_AUC_plot > 0:\n",
        "        plt.plot([i-0.2, i+0.2], [row.ROC_AUC_plot, row.ROC_AUC_plot], color='red', lw=2)\n",
        "        plt.text(i, row.ROC_AUC_plot + 0.01, f\"{row.ROC_AUC_plot:.2f}\", ha='center', fontsize=9, color='red')\n",
        "\n",
        "plt.title(\"Ranking de Modelos: F1 (barras) e ROC AUC (linha vermelha)\")\n",
        "plt.ylabel(\"F1 / ROC AUC\")\n",
        "plt.xlabel(\"Modelo\")\n",
        "plt.ylim(0,1.05)\n",
        "plt.show()\n"
      ],
      "metadata": {
        "id": "SO16Skyz9t7u"
      },
      "id": "SO16Skyz9t7u",
      "execution_count": null,
      "outputs": []
    },
    {
      "source": [
        "from google.colab import sheets\n",
        "sheet = sheets.InteractiveSheet(df=ranking_final)"
      ],
      "cell_type": "code",
      "execution_count": null,
      "outputs": [],
      "metadata": {
        "cellView": "form",
        "id": "9G9TW7-F2eql"
      },
      "id": "9G9TW7-F2eql"
    },
    {
      "cell_type": "code",
      "source": [
        "import joblib\n",
        "from sklearn.metrics import accuracy_score, f1_score, roc_auc_score, confusion_matrix, RocCurveDisplay\n",
        "\n",
        "# ========================\n",
        "# Seleção do melhor modelo\n",
        "# ========================\n",
        "melhor_modelo_nome = ranking_final.iloc[0][\"Modelo\"]  # topo do ranking\n",
        "melhor_modelo = modelos_candidates[melhor_modelo_nome]\n",
        "\n",
        "print(f\"🏆 Melhor modelo selecionado: {melhor_modelo_nome}\")\n",
        "\n",
        "# ========================\n",
        "# Treinar modelo no conjunto completo\n",
        "# ========================\n",
        "melhor_modelo.fit(X_train, y_train)\n",
        "y_pred = melhor_modelo.predict(X_test)\n",
        "\n",
        "# ========================\n",
        "# Métricas\n",
        "# ========================\n",
        "acc = accuracy_score(y_test, y_pred)\n",
        "f1 = f1_score(y_test, y_pred, average=\"weighted\")\n",
        "print(f\"Accuracy: {acc:.3f}\")\n",
        "print(f\"F1 Score: {f1:.3f}\")\n",
        "\n",
        "# ROC AUC apenas se binário\n",
        "if len(np.unique(y_test)) == 2 and hasattr(melhor_modelo, \"predict_proba\"):\n",
        "    y_proba = melhor_modelo.predict_proba(X_test)[:,1]\n",
        "    roc_auc = roc_auc_score(y_test, y_proba)\n",
        "    print(f\"ROC AUC: {roc_auc:.3f}\")\n",
        "else:\n",
        "    roc_auc = None\n",
        "\n",
        "# ========================\n",
        "# Matriz de Confusão\n",
        "# ========================\n",
        "cm = confusion_matrix(y_test, y_pred)\n",
        "plt.figure(figsize=(6,5))\n",
        "sns.heatmap(cm, annot=True, fmt='d', cmap=\"Blues\")\n",
        "plt.title(f\"Matriz de Confusão - {melhor_modelo_nome}\")\n",
        "plt.xlabel(\"Predito\")\n",
        "plt.ylabel(\"Real\")\n",
        "plt.show()\n",
        "\n",
        "# ========================\n",
        "# Curva ROC\n",
        "# ========================\n",
        "if roc_auc is not None:\n",
        "    RocCurveDisplay.from_estimator(melhor_modelo, X_test, y_test)\n",
        "    plt.show()\n",
        "\n",
        "# ========================\n",
        "# Salvar modelo\n",
        "# ========================\n",
        "joblib.dump(melhor_modelo, f\"melhor_modelo_{melhor_modelo_nome}.joblib\")\n",
        "print(f\"✅ Modelo salvo como melhor_modelo_{melhor_modelo_nome}.joblib\")\n"
      ],
      "metadata": {
        "id": "q3jinACh1oYG"
      },
      "id": "q3jinACh1oYG",
      "execution_count": null,
      "outputs": []
    },
    {
      "cell_type": "markdown",
      "source": [
        "1️⃣ Accuracy: 0.916\n",
        "\n",
        "Significa que 91,6% das previsões do modelo estão corretas no conjunto de teste.\n",
        "\n",
        "Accuracy mede a proporção de acertos gerais, mas não leva em conta desequilíbrio entre classes"
      ],
      "metadata": {
        "id": "GDil7I3G3VnZ"
      },
      "id": "GDil7I3G3VnZ"
    },
    {
      "cell_type": "markdown",
      "source": [
        "2️⃣ F1 Score: 0.890\n",
        "\n",
        "F1 combina precisão (precision) e revocação (recall) em uma única métrica:\n",
        "\n",
        "𝐹\n",
        "1\n",
        "=\n",
        "2\n",
        "⋅\n",
        "𝑝\n",
        "𝑟\n",
        "𝑒\n",
        "𝑐\n",
        "𝑖\n",
        "𝑠\n",
        "𝑖\n",
        "𝑜\n",
        "𝑛\n",
        "⋅\n",
        "𝑟\n",
        "𝑒\n",
        "𝑐\n",
        "𝑎\n",
        "𝑙\n",
        "𝑙\n",
        "𝑝\n",
        "𝑟\n",
        "𝑒\n",
        "𝑐\n",
        "𝑖\n",
        "𝑠\n",
        "𝑖\n",
        "𝑜\n",
        "𝑛\n",
        "+\n",
        "𝑟\n",
        "𝑒\n",
        "𝑐\n",
        "𝑎\n",
        "𝑙\n",
        "𝑙\n",
        "F1=2⋅\n",
        "precision+recall\n",
        "precision⋅recall\n",
        "\t​\n",
        "\n",
        "\n",
        "Valor 0.890 indica bom equilíbrio entre evitar falsos positivos e falsos negativos.\n",
        "\n",
        "Geralmente, em problemas com classes desbalanceadas, o F1 é mais confiável que Accuracy para medir performance real do modelo."
      ],
      "metadata": {
        "id": "rzZZL2it3XZc"
      },
      "id": "rzZZL2it3XZc"
    },
    {
      "cell_type": "markdown",
      "source": [
        "3️⃣ ROC AUC: 0.833\n",
        "\n",
        "ROC AUC mede a capacidade do modelo de separar corretamente as classes:\n",
        "\n",
        "0.5 → aleatório\n",
        "\n",
        "1.0 → perfeita separação\n",
        "\n",
        "0.833 é uma separação muito boa, indicando que, se variar o threshold de decisão, o modelo consegue distinguir bem entre positivos e negativos."
      ],
      "metadata": {
        "id": "8Rmnzo0v3r-3"
      },
      "id": "8Rmnzo0v3r-3"
    },
    {
      "cell_type": "markdown",
      "source": [
        "Modelos lineares (como Logistic Regression)\n",
        "\n",
        "Coeficientes (coef_) indicam importância e direção do efeito da variável:\n",
        "\n",
        "Positivo → aumenta o risco\n",
        "\n",
        "Negativo → diminui o risco\n",
        "\n",
        "Para visualizar de forma clara:"
      ],
      "metadata": {
        "id": "cqoWGul54rLL"
      },
      "id": "cqoWGul54rLL"
    },
    {
      "cell_type": "code",
      "source": [
        "# X_train é o usado no treino\n",
        "features_treino = X_train.columns\n",
        "\n",
        "coefs = pd.Series(melhor_modelo.coef_[0], index=features_treino)\n",
        "coefs_sorted = coefs.sort_values(key=abs, ascending=False)\n",
        "print(coefs_sorted.head(10))\n",
        "\n"
      ],
      "metadata": {
        "id": "nKZRhVSG4s9-"
      },
      "id": "nKZRhVSG4s9-",
      "execution_count": null,
      "outputs": []
    },
    {
      "cell_type": "code",
      "source": [
        "\n",
        "\n",
        "features_treino = X_train.columns\n",
        "coefs = melhor_modelo.coef_[0]\n",
        "\n",
        "# Criar DataFrame com coeficientes\n",
        "df_coefs = pd.DataFrame({\n",
        "    \"Feature\": features_treino,\n",
        "    \"Coeficiente\": coefs\n",
        "})\n",
        "\n",
        "# Adicionar coluna de interpretação\n",
        "df_coefs[\"Interpretacao\"] = df_coefs[\"Coeficiente\"].apply(lambda x: \"Aumenta risco\" if x > 0 else \"Reduz risco\")\n",
        "\n",
        "# Adicionar importância absoluta para ordenar\n",
        "df_coefs[\"AbsCoef\"] = df_coefs[\"Coeficiente\"].abs()\n",
        "\n",
        "# Ordenar pelas features mais importantes\n",
        "df_top = df_coefs.sort_values(by=\"AbsCoef\", ascending=False).head(10)\n",
        "print(df_top)\n",
        "\n",
        "# Plotar gráfico de barras com cores\n",
        "plt.figure(figsize=(10,6))\n",
        "colors = ['red' if x > 0 else 'green' for x in df_top[\"Coeficiente\"]]\n",
        "\n",
        "sns.barplot(x=\"Coeficiente\", y=\"Feature\", data=df_top, palette=colors)\n",
        "\n",
        "# Adicionar interpretação ao lado das barras\n",
        "for index, row in df_top.iterrows():\n",
        "    plt.text(row[\"Coeficiente\"] + 0.02 if row[\"Coeficiente\"] > 0 else row[\"Coeficiente\"] - 0.02,\n",
        "             index,\n",
        "             row[\"Interpretacao\"],\n",
        "             color='black',\n",
        "             va='center')\n",
        "\n",
        "plt.title(\"Top 10 Features do Modelo com Interpretação\")\n",
        "plt.xlabel(\"Coeficiente (positivo = aumenta risco, negativo = reduz risco)\")\n",
        "plt.ylabel(\"Feature\")\n",
        "plt.tight_layout()\n",
        "plt.show()\n"
      ],
      "metadata": {
        "id": "vp6l1AVgxawk"
      },
      "id": "vp6l1AVgxawk",
      "execution_count": null,
      "outputs": []
    },
    {
      "cell_type": "code",
      "source": [
        "# Selecionar apenas as colunas que interessam para a tabela final\n",
        "df_tabela = df_top[[\"Feature\", \"Coeficiente\", \"Interpretacao\"]].reset_index(drop=True)\n",
        "\n",
        "# Exibir a tabela\n",
        "print(df_tabela)\n"
      ],
      "metadata": {
        "id": "JoA6GyHUyExa"
      },
      "id": "JoA6GyHUyExa",
      "execution_count": null,
      "outputs": []
    },
    {
      "cell_type": "markdown",
      "source": [
        "| Feature                  | Coeficiente | Interpretação                                     |\n",
        "| ------------------------ | ----------- | ------------------------------------------------- |\n",
        "| AgeCategory\\_80 or older | 1.19        | Idade ≥80 aumenta fortemente o risco.             |\n",
        "| GenHealth\\_Excellent     | -0.93       | Boa saúde percebida diminui o risco.              |\n",
        "| AgeCategory\\_75-79       | 0.84        | Idade 75-79 aumenta risco, menos que ≥80.         |\n",
        "| Stroke\\_Yes              | 0.77        | Histórico de AVC aumenta risco.                   |\n",
        "| Stroke\\_No               | -0.75       | Sem histórico de AVC diminui risco.               |\n",
        "| AgeCategory\\_70-74       | 0.70        | Idade 70-74 aumenta risco.                        |\n",
        "| GenHealth\\_Poor          | 0.66        | Saúde percebida ruim aumenta risco.               |\n",
        "| GenHealth\\_Fair          | 0.62        | Saúde razoável aumenta risco, mas menos que ruim. |\n",
        "| AgeCategory\\_35-39       | -0.55       | Adultos jovens têm risco menor.                   |\n",
        "| AgeCategory\\_18-24       | -0.52       | Jovens adultos têm risco ainda menor.             |"
      ],
      "metadata": {
        "id": "FUx4tzdcxruS"
      },
      "id": "FUx4tzdcxruS"
    },
    {
      "cell_type": "code",
      "source": [
        "# Se usar  ColumnTransformer ou pipeline\n",
        "# se 0 melhor_modelo foi treinado com X_train_transformado\n",
        "coefs = pd.Series(melhor_modelo.coef_[0], index=X_train.columns)\n",
        "coefs_sorted = coefs.abs().sort_values(ascending=False)\n",
        "\n",
        "print(\"✅ Variáveis mais importantes para o risco:\")\n",
        "print(coefs_sorted.head(10))\n",
        "\n"
      ],
      "metadata": {
        "id": "zhRKmlKS1nnR"
      },
      "id": "zhRKmlKS1nnR",
      "execution_count": null,
      "outputs": []
    },
    {
      "cell_type": "code",
      "source": [
        "# ========================\n",
        "# Garantir features corretas usadas no treino\n",
        "# ========================\n",
        "features_treino = X_train.columns\n",
        "\n",
        "# ========================\n",
        "# Coeficientes do Logistic Regression\n",
        "# ========================\n",
        "coefs = pd.Series(melhor_modelo.coef_[0], index=features_treino)\n",
        "coefs_sorted = coefs.sort_values(key=abs, ascending=False)\n",
        "\n",
        "# Mostrar top 10 features\n",
        "top_features = coefs_sorted.head(10)\n",
        "print(\"🏆 Top 10 fatores que influenciam o risco de doenças cardíacas:\")\n",
        "print(top_features)\n",
        "\n",
        "# ========================\n",
        "# Gráfico\n",
        "# ========================\n",
        "plt.figure(figsize=(8,6))\n",
        "colors = ['red' if x > 0 else 'green' for x in top_features]  # vermelho aumenta risco, verde diminui\n",
        "top_features.sort_values().plot(kind='barh', color=colors)\n",
        "plt.xlabel(\"Coeficiente\")\n",
        "plt.title(\"Top 10 fatores que influenciam o risco de doenças cardíacas\")\n",
        "plt.grid(axis='x')\n",
        "plt.show()\n"
      ],
      "metadata": {
        "id": "vBhAfGCD5jdd"
      },
      "id": "vBhAfGCD5jdd",
      "execution_count": null,
      "outputs": []
    },
    {
      "cell_type": "markdown",
      "source": [
        "#### cross-validated metrics"
      ],
      "metadata": {
        "id": "Hux-B8eCqzM8"
      },
      "id": "Hux-B8eCqzM8"
    },
    {
      "cell_type": "code",
      "source": [
        "from sklearn.model_selection import cross_validate\n",
        "from sklearn.ensemble import RandomForestClassifier\n",
        "from sklearn.metrics import make_scorer, f1_score, precision_score, recall_score, roc_auc_score\n",
        "\n",
        "model = RandomForestClassifier(random_state=42)\n",
        "\n",
        "scoring = {\n",
        "    'accuracy': 'accuracy',\n",
        "    'f1': make_scorer(f1_score),            # binária\n",
        "    'precision': make_scorer(precision_score),\n",
        "    'recall': make_scorer(recall_score),\n",
        "    'roc_auc': make_scorer(roc_auc_score)\n",
        "}\n",
        "\n",
        "results = cross_validate(model, X, y, cv=5, scoring=scoring)\n",
        "print(\"Accuracy por fold:\", results['test_accuracy'])\n",
        "print(\"F1 por fold:\", results['test_f1'])\n",
        "print(\"Precision por fold:\", results['test_precision'])\n",
        "print(\"Recall por fold:\", results['test_recall'])\n",
        "print(\"ROC AUC por fold:\", results['test_roc_auc'])\n"
      ],
      "metadata": {
        "id": "lS2cdIw-qw3P"
      },
      "id": "lS2cdIw-qw3P",
      "execution_count": null,
      "outputs": []
    },
    {
      "cell_type": "markdown",
      "id": "6768a990",
      "metadata": {
        "id": "6768a990"
      },
      "source": [
        "## 8. Avaliação Final, Análise de Erros e Limitações"
      ]
    },
    {
      "cell_type": "code",
      "execution_count": null,
      "id": "ca6fbb1d",
      "metadata": {
        "id": "ca6fbb1d"
      },
      "outputs": [],
      "source": [
        "best_model = melhor_modelo  # já treinado anteriormente\n",
        "\n",
        "y_pred = best_model.predict(X_test)\n",
        "print(\"Accuracy:\", accuracy_score(y_test, y_pred))\n",
        "print(\"F1 Score:\", f1_score(y_test, y_pred))\n",
        "print(\"ROC AUC:\", roc_auc_score(y_test, best_model.predict_proba(X_test)[:,1]))\n",
        "cm = confusion_matrix(y_test, y_pred)\n",
        "sns.heatmap(cm, annot=True, fmt='d')\n",
        "plt.show()\n",
        "RocCurveDisplay.from_estimator(best_model, X_test, y_test)\n",
        "plt.show()"
      ]
    },
    {
      "cell_type": "code",
      "source": [
        "features_treino = X_train.columns\n",
        "\n",
        "# Para modelos lineares\n",
        "if hasattr(best_model, \"coef_\"):\n",
        "    coefs = pd.Series(best_model.coef_[0], index=features_treino)\n",
        "    coefs_sorted = coefs.sort_values(key=abs, ascending=False)\n",
        "    top_features = coefs_sorted.head(10)\n",
        "    print(\"🏆 Top 10 fatores que influenciam o risco:\")\n",
        "    print(top_features)\n",
        "\n",
        "    plt.figure(figsize=(8,6))\n",
        "    colors = ['red' if x > 0 else 'green' for x in top_features]\n",
        "    top_features.sort_values().plot(kind='barh', color=colors)\n",
        "    plt.xlabel(\"Coeficiente\")\n",
        "    plt.title(\"Top 10 fatores que influenciam o risco de doenças cardíacas\")\n",
        "    plt.grid(axis='x')\n",
        "    plt.show()\n",
        "\n",
        "# Para modelos de árvore\n",
        "elif hasattr(best_model, \"feature_importances_\"):\n",
        "    importances = pd.Series(best_model.feature_importances_, index=features_treino)\n",
        "    importances_sorted = importances.sort_values(ascending=False)\n",
        "    top_features = importances_sorted.head(10)\n",
        "\n",
        "    plt.figure(figsize=(8,6))\n",
        "    top_features.sort_values().plot(kind='barh', color='skyblue')\n",
        "    plt.xlabel(\"Importância\")\n",
        "    plt.title(\"Top 10 features importantes (RandomForest/GBM)\")\n",
        "    plt.gca().invert_yaxis()\n",
        "    plt.show()\n"
      ],
      "metadata": {
        "id": "PjaUi2DN15iR"
      },
      "id": "PjaUi2DN15iR",
      "execution_count": null,
      "outputs": []
    },
    {
      "cell_type": "markdown",
      "source": [
        "Gráfico comparativo de todos os modelos (F1 e ROC AUC)"
      ],
      "metadata": {
        "id": "0gm-krLt-qnZ"
      },
      "id": "0gm-krLt-qnZ"
    },
    {
      "cell_type": "code",
      "source": [
        "df_plot = ranking_final.copy()\n",
        "df_plot[\"ROC_AUC_plot\"] = df_plot[\"ROC_AUC\"].fillna(0)\n",
        "\n",
        "plt.figure(figsize=(12,6))\n",
        "sns.barplot(x=\"Modelo\", y=\"F1\", data=df_plot, palette=\"pastel\", edgecolor=\"black\")\n",
        "\n",
        "# Labels F1\n",
        "for i, row in df_plot.iterrows():\n",
        "    plt.text(i, row.F1 + 0.01, f\"{row.F1:.2f}\", ha='center', fontsize=9)\n",
        "\n",
        "# Linha ROC AUC\n",
        "for i, row in df_plot.iterrows():\n",
        "    if row.ROC_AUC_plot > 0:\n",
        "        plt.plot([i-0.2, i+0.2], [row.ROC_AUC_plot]*2, color='red', lw=2)\n",
        "        plt.text(i, row.ROC_AUC_plot + 0.01, f\"{row.ROC_AUC_plot:.2f}\", ha='center', fontsize=9, color='red')\n",
        "\n",
        "plt.title(\"Ranking de Modelos: F1 (barras) e ROC AUC (linha vermelha)\")\n",
        "plt.ylabel(\"F1 / ROC AUC\")\n",
        "plt.xlabel(\"Modelo\")\n",
        "plt.ylim(0,1.05)\n",
        "plt.show()\n"
      ],
      "metadata": {
        "id": "hPyPk1qn-sUl"
      },
      "id": "hPyPk1qn-sUl",
      "execution_count": null,
      "outputs": []
    },
    {
      "cell_type": "markdown",
      "source": [
        "Salvar o melhor modelo"
      ],
      "metadata": {
        "id": "Kvr-dPDcXYFn"
      },
      "id": "Kvr-dPDcXYFn"
    },
    {
      "cell_type": "code",
      "source": [
        "joblib.dump(best_model, f\"melhor_modelo_{ranking_final.iloc[0]['Modelo']}.joblib\")\n",
        "print(\"✅ Modelo salvo para uso futuro.\")"
      ],
      "metadata": {
        "id": "kMK9CvZL-0mu"
      },
      "id": "kMK9CvZL-0mu",
      "execution_count": null,
      "outputs": []
    },
    {
      "cell_type": "markdown",
      "source": [
        "Ranking completo com tempo de treino"
      ],
      "metadata": {
        "id": "aiOl9EoR_EYL"
      },
      "id": "aiOl9EoR_EYL"
    },
    {
      "cell_type": "code",
      "source": [
        "plt.figure(figsize=(12,6))\n",
        "sns.barplot(x=\"Modelo\", y=\"F1\", data=ranking_final, palette=\"pastel\", edgecolor=\"black\")\n",
        "\n",
        "# Labels F1\n",
        "for i, row in ranking_final.iterrows():\n",
        "    plt.text(i, row.F1 + 0.01, f\"{row.F1:.2f}\", ha='center', fontsize=9)\n",
        "\n",
        "# Adicionar linha de ROC AUC\n",
        "for i, row in ranking_final.iterrows():\n",
        "    if not pd.isna(row.ROC_AUC):\n",
        "        plt.plot([i-0.2, i+0.2], [row.ROC_AUC]*2, color='red', lw=2)\n",
        "        plt.text(i, row.ROC_AUC + 0.01, f\"{row.ROC_AUC:.2f}\", ha='center', fontsize=9, color='red')\n",
        "\n",
        "# Adicionar tempo de treino como marcador\n",
        "for i, row in ranking_final.iterrows():\n",
        "    plt.text(i, 0.05, f\"{row.Tempo:.1f}s\", ha='center', fontsize=8, rotation=90, color='blue')\n",
        "\n",
        "plt.title(\"Ranking de Modelos: F1 (barras), ROC AUC (linha vermelha) e Tempo de treino (azul)\")\n",
        "plt.ylabel(\"F1 / ROC AUC\")\n",
        "plt.xlabel(\"Modelo\")\n",
        "plt.ylim(0,1.05)\n",
        "plt.show()\n"
      ],
      "metadata": {
        "id": "sjxanrFP_E-F"
      },
      "id": "sjxanrFP_E-F",
      "execution_count": null,
      "outputs": []
    },
    {
      "cell_type": "markdown",
      "source": [
        "SHAP values para interpretação do melhor modelo"
      ],
      "metadata": {
        "id": "WbIv2QP3_OSV"
      },
      "id": "WbIv2QP3_OSV"
    },
    {
      "cell_type": "code",
      "source": [
        "import shap\n",
        "\n",
        "# Criar explainer\n",
        "explainer = shap.Explainer(best_model, X_train)\n",
        "shap_values = explainer(X_test)\n",
        "\n",
        "# Resumo global\n",
        "shap.summary_plot(shap_values, X_test, plot_type=\"bar\")  # importance plot\n",
        "shap.summary_plot(shap_values, X_test)  # beeswarm plot\n",
        "\n",
        "# Explicação individual (para o primeiro paciente)\n",
        "shap.plots.waterfall(shap_values[0])\n"
      ],
      "metadata": {
        "id": "eDXEKj4i_P7b"
      },
      "id": "eDXEKj4i_P7b",
      "execution_count": null,
      "outputs": []
    },
    {
      "cell_type": "markdown",
      "source": [
        "Fatores críticos de risco (visual)"
      ],
      "metadata": {
        "id": "k5_0jOEl_V8D"
      },
      "id": "k5_0jOEl_V8D"
    },
    {
      "cell_type": "code",
      "source": [
        "# Selecionar top 10 features SHAP\n",
        "shap_importance = pd.Series(np.abs(shap_values.values).mean(0), index=X_test.columns)\n",
        "top_features = shap_importance.sort_values(ascending=False).head(10)\n",
        "\n",
        "plt.figure(figsize=(8,6))\n",
        "top_features.sort_values().plot(kind='barh', color='orange')\n",
        "plt.xlabel(\"Impacto médio absoluto (SHAP)\")\n",
        "plt.title(\"Top 10 fatores críticos de risco de doenças cardíacas\")\n",
        "plt.grid(axis='x')\n",
        "plt.show()\n"
      ],
      "metadata": {
        "id": "K7xbC4eX_Xij"
      },
      "id": "K7xbC4eX_Xij",
      "execution_count": null,
      "outputs": []
    },
    {
      "cell_type": "markdown",
      "source": [
        "Fatores críticos de risco (visual)"
      ],
      "metadata": {
        "id": "LxgmOBhu_lLE"
      },
      "id": "LxgmOBhu_lLE"
    },
    {
      "cell_type": "markdown",
      "source": [
        "Gerando realtorio"
      ],
      "metadata": {
        "id": "Zn5RWt8i_w2_"
      },
      "id": "Zn5RWt8i_w2_"
    },
    {
      "cell_type": "code",
      "source": [
        "!pip install pdfkit jinja2\n",
        "!apt-get install -y wkhtmltopdf  # necessário para PDF\n"
      ],
      "metadata": {
        "id": "t4Hp_VhQ_zyY"
      },
      "id": "t4Hp_VhQ_zyY",
      "execution_count": null,
      "outputs": []
    },
    {
      "cell_type": "markdown",
      "source": [
        "Template de relatório HTML"
      ],
      "metadata": {
        "id": "VrlU1uT__787"
      },
      "id": "VrlU1uT__787"
    },
    {
      "cell_type": "code",
      "source": [
        "html_template = \"\"\"\n",
        "<!DOCTYPE html>\n",
        "<html lang=\"pt-BR\">\n",
        "<head>\n",
        "    <meta charset=\"UTF-8\">\n",
        "    <title>Relatório de Modelos - Risco de Doenças Cardíacas</title>\n",
        "    <style>\n",
        "        body {\n",
        "            font-family: Arial, sans-serif;\n",
        "            margin: 30px;\n",
        "            line-height: 1.5;\n",
        "            color: #333333;\n",
        "        }\n",
        "        h1, h2, h3 {\n",
        "            color: #2E4053;\n",
        "        }\n",
        "        h1 {\n",
        "            text-align: center;\n",
        "        }\n",
        "        table {\n",
        "            border-collapse: collapse;\n",
        "            width: 100%;\n",
        "            margin-bottom: 20px;\n",
        "        }\n",
        "        table, th, td {\n",
        "            border: 1px solid #999;\n",
        "        }\n",
        "        th, td {\n",
        "            padding: 8px;\n",
        "            text-align: center;\n",
        "        }\n",
        "        img {\n",
        "            display: block;\n",
        "            margin: 10px auto;\n",
        "            max-width: 90%;\n",
        "            height: auto;\n",
        "            border: 1px solid #ccc;\n",
        "            padding: 5px;\n",
        "            background-color: #f9f9f9;\n",
        "        }\n",
        "        p {\n",
        "            font-size: 14px;\n",
        "        }\n",
        "    </style>\n",
        "</head>\n",
        "<body>\n",
        "    <h1>Relatório de Modelos - Risco de Doenças Cardíacas</h1>\n",
        "\n",
        "    <h2>1. Ranking de Modelos</h2>\n",
        "    {{ ranking_table | safe }}\n",
        "\n",
        "    <h2>2. Avaliação do Melhor Modelo: {{ best_model_name }}</h2>\n",
        "    <p>\n",
        "        Accuracy: {{ acc|round(3) }} |\n",
        "        F1 Score: {{ f1|round(3) }} |\n",
        "        ROC AUC: {{ roc_auc|round(3) }}\n",
        "    </p>\n",
        "\n",
        "    <h3>3. Matriz de Confusão</h3>\n",
        "    <img src=\"{{ cm_img }}\">\n",
        "\n",
        "    <h3>4. Curva ROC</h3>\n",
        "    <img src=\"{{ roc_img }}\">\n",
        "\n",
        "    <h3>5. Top Features</h3>\n",
        "    <img src=\"{{ features_img }}\">\n",
        "\n",
        "    <h3>6. SHAP Summary Plot (Top 10 features)</h3>\n",
        "    <img src=\"{{ shap_img }}\">\n",
        "</body>\n",
        "</html>\n",
        "\"\"\"\n",
        "\n",
        "\n"
      ],
      "metadata": {
        "id": "cliMCgUC_8_B"
      },
      "id": "cliMCgUC_8_B",
      "execution_count": null,
      "outputs": []
    },
    {
      "cell_type": "markdown",
      "source": [
        "Salvar gráficos como imagens"
      ],
      "metadata": {
        "id": "TO5vewvh_zPV"
      },
      "id": "TO5vewvh_zPV"
    },
    {
      "cell_type": "code",
      "source": [
        "# ========================\n",
        "# Matriz de Confusão\n",
        "# ========================\n",
        "cm_fig = \"cm.png\"\n",
        "cm = confusion_matrix(y_test, best_model.predict(X_test))\n",
        "plt.figure(figsize=(6,5))\n",
        "sns.heatmap(cm, annot=True, fmt='d', cmap=\"Blues\")\n",
        "plt.title(\"Matriz de Confusão\")\n",
        "plt.xlabel(\"Predito\")\n",
        "plt.ylabel(\"Real\")\n",
        "plt.savefig(cm_fig)\n",
        "plt.close()\n",
        "\n",
        "# ========================\n",
        "# Curva ROC\n",
        "# ========================\n",
        "roc_fig = \"roc.png\"\n",
        "y_score = None\n",
        "if len(np.unique(y_test)) == 2:\n",
        "    if hasattr(best_model, \"predict_proba\"):\n",
        "        y_score = best_model.predict_proba(X_test)[:,1]\n",
        "    elif hasattr(best_model, \"decision_function\"):\n",
        "        y_score = best_model.decision_function(X_test)\n",
        "\n",
        "if y_score is not None:\n",
        "    RocCurveDisplay.from_predictions(y_test, y_score)\n",
        "    plt.title(\"Curva ROC\")\n",
        "    plt.savefig(roc_fig)\n",
        "    plt.close()\n",
        "\n",
        "# ========================\n",
        "# Top features (coef / importance)\n",
        "# ========================\n",
        "features_fig = \"features.png\"\n",
        "plt.figure(figsize=(8,6))\n",
        "\n",
        "# ========================\n",
        "# Matriz de Confusão\n",
        "# ========================\n",
        "cm_fig = \"cm.png\"\n",
        "plt.figure(figsize=(6,5))\n",
        "sns.heatmap(cm, annot=True, fmt='d', cmap=\"Blues\")\n",
        "plt.title(\"Matriz de Confusão\")\n",
        "plt.savefig(cm_fig)\n",
        "plt.close()\n",
        "\n",
        "# ========================\n",
        "# Curva ROC\n",
        "# ========================\n",
        "roc_fig = \"roc.png\"\n",
        "if len(np.unique(y_test)) == 2 and hasattr(best_model, \"predict_proba\"):\n",
        "    RocCurveDisplay.from_estimator(best_model, X_test, y_test)\n",
        "    plt.title(\"Curva ROC\")\n",
        "    plt.savefig(roc_fig)\n",
        "    plt.close()\n",
        "\n",
        "# ========================\n",
        "# Top Features (coef / importance)\n",
        "# ========================\n",
        "features_fig = \"features.png\"\n",
        "plt.figure(figsize=(8,6))\n",
        "\n",
        "if hasattr(best_model, \"coef_\"):\n",
        "    # Modelos lineares\n",
        "    coefs = pd.Series(best_model.coef_[0], index=X_train.columns)\n",
        "    top_features_model = coefs.abs().sort_values(ascending=False).head(10)\n",
        "    colors = ['red' if coefs[f] > 0 else 'green' for f in top_features_model.index]\n",
        "    top_features_model.sort_values().plot(kind='barh', color=colors)\n",
        "elif hasattr(best_model, \"feature_importances_\"):\n",
        "    # Modelos baseados em árvores\n",
        "    feat_imp = pd.Series(best_model.feature_importances_, index=X_train.columns)\n",
        "    top_features_model = feat_imp.sort_values(ascending=False).head(10)\n",
        "    top_features_model.sort_values().plot(kind='barh', color='skyblue')\n",
        "\n",
        "plt.title(\"Top 10 Features\")\n",
        "plt.xlabel(\"Importância\")\n",
        "plt.grid(axis='x')\n",
        "plt.savefig(features_fig)\n",
        "plt.close()\n",
        "\n",
        "# ========================\n",
        "# SHAP Top 10\n",
        "# ========================\n",
        "shap_fig = \"shap.png\"\n",
        "explainer = shap.Explainer(best_model, X_train)\n",
        "shap_values = explainer(X_test)\n",
        "\n",
        "shap_importance = pd.Series(np.abs(shap_values.values).mean(0), index=X_test.columns)\n",
        "top_shap = shap_importance.sort_values(ascending=False).head(10)\n",
        "\n",
        "plt.figure(figsize=(8,6))\n",
        "top_shap.sort_values().plot(kind='barh', color='orange')\n",
        "plt.xlabel(\"Impacto médio absoluto (SHAP)\")\n",
        "plt.title(\"Top 10 fatores críticos (SHAP)\")\n",
        "plt.grid(axis='x')\n",
        "plt.savefig(shap_fig)\n",
        "plt.close()\n",
        "\n",
        "\n",
        "\n"
      ],
      "metadata": {
        "id": "YXSCifPRAC2O"
      },
      "id": "YXSCifPRAC2O",
      "execution_count": null,
      "outputs": []
    },
    {
      "cell_type": "markdown",
      "source": [
        "Preencher template e gerar HTML/PDF"
      ],
      "metadata": {
        "id": "CDAXxwNLAM9U"
      },
      "id": "CDAXxwNLAM9U"
    },
    {
      "cell_type": "code",
      "source": [
        "!pip install weasyprint"
      ],
      "metadata": {
        "id": "w7rzM5MQmaaw"
      },
      "id": "w7rzM5MQmaaw",
      "execution_count": null,
      "outputs": []
    },
    {
      "cell_type": "code",
      "source": [
        "import os\n",
        "from jinja2 import Template\n",
        "from weasyprint import HTML\n",
        "\n",
        "# =========================\n",
        "# Caminhos absolutos das figuras\n",
        "# =========================\n",
        "cm_fig = os.path.abspath(\"cm.png\")\n",
        "roc_fig = os.path.abspath(\"roc.png\")\n",
        "features_fig = os.path.abspath(\"features.png\")\n",
        "shap_fig = os.path.abspath(\"shap.png\")\n",
        "\n",
        "# =========================\n",
        "# Renderizar template HTML\n",
        "# =========================\n",
        "# html_template deve ser sua string de template Jinja2\n",
        "template = Template(html_template)\n",
        "\n",
        "html_out = template.render(\n",
        "    ranking_table=ranking_final.to_html(index=False),  # tabela de ranking\n",
        "    best_model_name=ranking_final.iloc[0][\"Modelo\"],  # nome do melhor modelo\n",
        "    acc=accuracy_score(y_test, y_pred),\n",
        "    f1=f1_score(y_test, y_pred, average='weighted'),\n",
        "    roc_auc=roc_auc_score(y_test, y_proba) if hasattr(best_model, \"predict_proba\") else 0,\n",
        "    cm_img=cm_fig,\n",
        "    roc_img=roc_fig,\n",
        "    features_img=features_fig,\n",
        "    shap_img=shap_fig\n",
        ")\n",
        "\n",
        "# =========================\n",
        "# Salvar HTML\n",
        "# =========================\n",
        "html_file = \"relatorio_modelos.html\"\n",
        "with open(html_file, \"w\", encoding=\"utf-8\") as f:\n",
        "    f.write(html_out)\n",
        "\n",
        "print(f\"✅ Relatório HTML gerado: {html_file}\")\n",
        "\n",
        "# =========================\n",
        "# Gerar PDF usando WeasyPrint\n",
        "# =========================\n",
        "pdf_file = \"relatorio_modelos.pdf\"\n",
        "HTML(html_file).write_pdf(pdf_file)\n",
        "\n",
        "print(f\"✅ Relatório PDF gerado: {pdf_file}\")\n",
        "\n",
        "\n"
      ],
      "metadata": {
        "id": "58EOBu6CAOem"
      },
      "id": "58EOBu6CAOem",
      "execution_count": null,
      "outputs": []
    },
    {
      "cell_type": "markdown",
      "id": "cfdf61c2",
      "metadata": {
        "id": "cfdf61c2"
      },
      "source": [
        "## 9. Engenharia de Atributos (Opcional)\n",
        "# Exemplo: criar bins de idade\n",
        "# df['age_bin'] = pd.cut(df['age'], bins=[29,40,50,60,70,80], labels=False)"
      ]
    },
    {
      "cell_type": "markdown",
      "source": [
        "Eliminação de características com baixa variância"
      ],
      "metadata": {
        "id": "mapkSR6lXYiR"
      },
      "id": "mapkSR6lXYiR"
    },
    {
      "cell_type": "code",
      "source": [
        "df.apply(lambda x: x.nunique(), axis=0)"
      ],
      "metadata": {
        "id": "iKJ0YjorXbEp"
      },
      "id": "iKJ0YjorXbEp",
      "execution_count": null,
      "outputs": []
    },
    {
      "cell_type": "code",
      "source": [],
      "metadata": {
        "id": "D3UeTj3FXbmR"
      },
      "id": "D3UeTj3FXbmR",
      "execution_count": null,
      "outputs": []
    }
  ],
  "metadata": {
    "colab": {
      "provenance": [],
      "include_colab_link": true
    },
    "language_info": {
      "name": "python"
    },
    "kernelspec": {
      "name": "python3",
      "display_name": "Python 3"
    }
  },
  "nbformat": 4,
  "nbformat_minor": 5
}