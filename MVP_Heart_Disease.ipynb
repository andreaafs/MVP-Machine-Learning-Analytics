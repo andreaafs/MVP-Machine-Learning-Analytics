{
 "cells": [
  {
   "cell_type": "markdown",
   "id": "1fb6682d",
   "metadata": {},
   "source": [
    "# MVP: Previsão de Risco de Doenças Cardíacas"
   ]
  },
  {
   "cell_type": "markdown",
   "id": "1d3cc84b",
   "metadata": {},
   "source": [
    "## 1. Escopo, Objetivo e Definição do Problema\n",
    "- Objetivo: prever risco de doenças cardíacas (classificação binária: sim/não)\n",
    "- Hipóteses iniciais: idade, pressão, colesterol e histórico familiar influenciam mais.\n",
    "- Restrições: dataset público, sem dados clínicos sensíveis."
   ]
  },
  {
   "cell_type": "markdown",
   "id": "ca4b1126",
   "metadata": {},
   "source": [
    "## 2. Reprodutibilidade e Ambiente"
   ]
  },
  {
   "cell_type": "code",
   "execution_count": null,
   "id": "adc7cb82",
   "metadata": {},
   "outputs": [],
   "source": [
    "import numpy as np\n",
    "import random\n",
    "import torch\n",
    "np.random.seed(42)\n",
    "random.seed(42)\n",
    "torch.manual_seed(42)\n",
    "import pandas as pd\n",
    "import matplotlib.pyplot as plt\n",
    "import seaborn as sns\n",
    "from sklearn.model_selection import train_test_split, GridSearchCV\n",
    "from sklearn.preprocessing import StandardScaler, OneHotEncoder\n",
    "from sklearn.compose import ColumnTransformer\n",
    "from sklearn.pipeline import Pipeline\n",
    "from sklearn.metrics import accuracy_score, f1_score, roc_auc_score, confusion_matrix, RocCurveDisplay\n",
    "from sklearn.dummy import DummyClassifier\n",
    "from sklearn.linear_model import LogisticRegression\n",
    "from sklearn.ensemble import RandomForestClassifier"
   ]
  },
  {
   "cell_type": "markdown",
   "id": "79104bb5",
   "metadata": {},
   "source": [
    "## 3. Dados: Carga, Entendimento e Qualidade"
   ]
  },
  {
   "cell_type": "code",
   "execution_count": null,
   "id": "55ebe959",
   "metadata": {},
   "outputs": [],
   "source": [
    "df = pd.read_csv('heart.csv')  # Ajustar caminho\n",
    "print(df.info())\n",
    "print(df.describe())\n",
    "print(df.isnull().sum())\n",
    "sns.countplot(x='target', data=df)\n",
    "plt.show()"
   ]
  },
  {
   "cell_type": "markdown",
   "id": "12e0e2b0",
   "metadata": {},
   "source": [
    "## 4. Definição do Target, Variáveis e Divisão dos Dados"
   ]
  },
  {
   "cell_type": "code",
   "execution_count": null,
   "id": "77533194",
   "metadata": {},
   "outputs": [],
   "source": [
    "X = df.drop('target', axis=1)\n",
    "y = df['target']\n",
    "numerical_cols = X.select_dtypes(include=['int64','float64']).columns.tolist()\n",
    "categorical_cols = X.select_dtypes(include=['object']).columns.tolist()\n",
    "X_train, X_test, y_train, y_test = train_test_split(X, y, test_size=0.2, stratify=y, random_state=42)"
   ]
  },
  {
   "cell_type": "markdown",
   "id": "861d468f",
   "metadata": {},
   "source": [
    "## 5. Tratamento de Dados e Pipeline de Pré-processamento"
   ]
  },
  {
   "cell_type": "code",
   "execution_count": null,
   "id": "4df1b285",
   "metadata": {},
   "outputs": [],
   "source": [
    "num_transformer = StandardScaler()\n",
    "cat_transformer = OneHotEncoder(handle_unknown='ignore')\n",
    "preprocessor = ColumnTransformer(\n",
    "    transformers=[('num', num_transformer, numerical_cols), ('cat', cat_transformer, categorical_cols)])"
   ]
  },
  {
   "cell_type": "markdown",
   "id": "f8506666",
   "metadata": {},
   "source": [
    "## 6. Baseline e Modelos Candidatos"
   ]
  },
  {
   "cell_type": "code",
   "execution_count": null,
   "id": "b1de6033",
   "metadata": {},
   "outputs": [],
   "source": [
    "baseline = Pipeline(steps=[('preprocessor', preprocessor), ('classifier', DummyClassifier(strategy='most_frequent'))])\n",
    "baseline.fit(X_train, y_train)\n",
    "y_pred_base = baseline.predict(X_test)\n",
    "print(\"Accuracy baseline:\", accuracy_score(y_test, y_pred_base))\n",
    "\n",
    "models = {\n",
    "    'LogisticRegression': LogisticRegression(max_iter=1000),\n",
    "    'RandomForest': RandomForestClassifier(random_state=42)\n",
    "}\n",
    "for name, model in models.items():\n",
    "    pipe = Pipeline(steps=[('preprocessor', preprocessor), ('classifier', model)])\n",
    "    pipe.fit(X_train, y_train)\n",
    "    y_pred = pipe.predict(X_test)\n",
    "    print(f\"{name} Accuracy: {accuracy_score(y_test, y_pred):.3f}, F1: {f1_score(y_test, y_pred):.3f}\")"
   ]
  },
  {
   "cell_type": "markdown",
   "id": "78f147ec",
   "metadata": {},
   "source": [
    "## 7. Validação e Otimização de Hiperparâmetros"
   ]
  },
  {
   "cell_type": "code",
   "execution_count": null,
   "id": "4d89e53c",
   "metadata": {},
   "outputs": [],
   "source": [
    "param_grid = {\n",
    "    'classifier__n_estimators': [50, 100, 200],\n",
    "    'classifier__max_depth': [None, 5, 10],\n",
    "    'classifier__min_samples_split': [2, 5]\n",
    "}\n",
    "grid_search = GridSearchCV(\n",
    "    Pipeline([('preprocessor', preprocessor), ('classifier', RandomForestClassifier(random_state=42))]),\n",
    "    param_grid, cv=5, scoring='f1')\n",
    "grid_search.fit(X_train, y_train)\n",
    "print(\"Melhores parâmetros:\", grid_search.best_params_)"
   ]
  },
  {
   "cell_type": "markdown",
   "id": "6768a990",
   "metadata": {},
   "source": [
    "## 8. Avaliação Final, Análise de Erros e Limitações"
   ]
  },
  {
   "cell_type": "code",
   "execution_count": null,
   "id": "ca6fbb1d",
   "metadata": {},
   "outputs": [],
   "source": [
    "best_model = grid_search.best_estimator_\n",
    "y_pred = best_model.predict(X_test)\n",
    "print(\"Accuracy:\", accuracy_score(y_test, y_pred))\n",
    "print(\"F1 Score:\", f1_score(y_test, y_pred))\n",
    "print(\"ROC AUC:\", roc_auc_score(y_test, best_model.predict_proba(X_test)[:,1]))\n",
    "cm = confusion_matrix(y_test, y_pred)\n",
    "sns.heatmap(cm, annot=True, fmt='d')\n",
    "plt.show()\n",
    "RocCurveDisplay.from_estimator(best_model, X_test, y_test)\n",
    "plt.show()"
   ]
  },
  {
   "cell_type": "markdown",
   "id": "cfdf61c2",
   "metadata": {},
   "source": [
    "## 9. Engenharia de Atributos (Opcional)\n",
    "# Exemplo: criar bins de idade\n",
    "# df['age_bin'] = pd.cut(df['age'], bins=[29,40,50,60,70,80], labels=False)"
   ]
  }
 ],
 "metadata": {},
 "nbformat": 4,
 "nbformat_minor": 5
}
