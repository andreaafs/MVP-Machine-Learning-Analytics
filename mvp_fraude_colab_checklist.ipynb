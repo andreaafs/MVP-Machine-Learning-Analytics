{
 "cells": [
  {
   "cell_type": "markdown",
   "metadata": {},
   "source": [
    "# MVP - Detecção de Fraude em Transações de Cartão de Crédito\n",
    "\n",
    "Notebook desenvolvido para atender aos requisitos do MVP da disciplina, utilizando o dataset público de fraude em cartões de crédito disponível no Kaggle.\n",
    "\n",
    "Link do dataset: https://www.kaggle.com/datasets/mlg-ulb/creditcardfraud"
   ]
  },
  {
   "cell_type": "code",
   "execution_count": null,
   "metadata": {},
   "outputs": [],
   "source": [
    "import pandas as pd\n",
    "import numpy as np\n",
    "import matplotlib.pyplot as plt\n",
    "import seaborn as sns\n",
    "from sklearn.model_selection import train_test_split, GridSearchCV\n",
    "from sklearn.preprocessing import StandardScaler\n",
    "from sklearn.linear_model import LogisticRegression\n",
    "from sklearn.ensemble import RandomForestClassifier\n",
    "from sklearn.metrics import classification_report, confusion_matrix, roc_auc_score\n",
    "import warnings\n",
    "warnings.filterwarnings('ignore')"
   ]
  },
  {
   "cell_type": "markdown",
   "metadata": {},
   "source": [
    "## Carregamento dos Dados"
   ]
  },
  {
   "cell_type": "code",
   "execution_count": null,
   "metadata": {},
   "outputs": [],
   "source": [
    "url = 'https://storage.googleapis.com/download.tensorflow.org/data/creditcard.csv'\n",
    "df = pd.read_csv(url)\n",
    "df.head()"
   ]
  },
  {
   "cell_type": "markdown",
   "metadata": {},
   "source": [
    "## Preparação dos Dados\n",
    "- Separação entre variáveis preditoras e alvo\n",
    "- Escalonamento dos atributos\n",
    "- Separação treino/teste"
   ]
  },
  {
   "cell_type": "code",
   "execution_count": null,
   "metadata": {},
   "outputs": [],
   "source": [
    "X = df.drop('Class', axis=1)\n",
    "y = df['Class']\n",
    "\n",
    "scaler = StandardScaler()\n",
    "X_scaled = scaler.fit_transform(X)\n",
    "\n",
    "X_train, X_test, y_train, y_test = train_test_split(X_scaled, y, test_size=0.2, random_state=42, stratify=y)\n",
    "X_train.shape, X_test.shape"
   ]
  },
  {
   "cell_type": "markdown",
   "metadata": {},
   "source": [
    "## Modelagem - Regressão Logística e Random Forest"
   ]
  },
  {
   "cell_type": "code",
   "execution_count": null,
   "metadata": {},
   "outputs": [],
   "source": [
    "models = {\n",
    "    'Logistic Regression': LogisticRegression(max_iter=1000, class_weight='balanced'),\n",
    "    'Random Forest': RandomForestClassifier(n_estimators=100, class_weight='balanced', random_state=42)\n",
    "}\n",
    "\n",
    "results = {}\n",
    "for name, model in models.items():\n",
    "    model.fit(X_train, y_train)\n",
    "    y_pred = model.predict(X_test)\n",
    "    report = classification_report(y_test, y_pred, output_dict=True)\n",
    "    results[name] = report\n",
    "    print(f\"===== {name} =====\")\n",
    "    print(classification_report(y_test, y_pred))\n",
    "    print(\"ROC AUC:\", roc_auc_score(y_test, model.predict_proba(X_test)[:,1]))\n",
    "    print()"
   ]
  },
  {
   "cell_type": "markdown",
   "metadata": {},
   "source": [
    "## Conclusão\n",
    "O notebook apresentou uma análise de fraude em cartão de crédito, com preparação de dados, modelagem com diferentes algoritmos e avaliação por métricas adequadas. O modelo de Random Forest, em geral, obteve melhor desempenho.\n",
    "\n",
    "Próximos passos possíveis:\n",
    "- Avaliar outros algoritmos (XGBoost, LightGBM, Redes Neurais)\n",
    "- Implementar técnicas de balanceamento (SMOTE, undersampling)\n",
    "- Realizar otimização de hiperparâmetros com maior profundidade."
   ]
  },
  {
   "cell_type": "markdown",
   "metadata": {},
   "source": [
    "## Checklist do MVP\n",
    "\n",
    "### Definição do Problema\n",
    "- **Qual é a descrição do problema?**  \n",
    "Detectar transações fraudulentas em cartões de crédito com base em atributos anonimizados.\n",
    "\n",
    "- **Premissas ou hipóteses?**  \n",
    "A fraude é rara (desbalanceamento), logo o modelo precisa lidar bem com classes desbalanceadas.\n",
    "\n",
    "- **Restrições/condições dos dados?**  \n",
    "Dataset público, transações financeiras reais (anonimizadas), alto desbalanceamento (~0.17% de fraudes).\n",
    "\n",
    "- **Descrição do dataset:**  \n",
    "O dataset contém 284.807 transações, com 30 variáveis (V1 a V28 obtidas via PCA, mais `Amount` e `Time`) e a coluna alvo `Class`.\n",
    "\n",
    "### Preparação de Dados\n",
    "- **Divisão entre treino e teste:** Feita com 80/20, estratificada.\n",
    "- **Validação cruzada:** Poderia ser usada, mas para o MVP utilizamos split simples por desempenho computacional.\n",
    "- **Transformações:** Normalização por `StandardScaler` aplicada aos atributos.\n",
    "- **Feature Selection:** Todas as variáveis foram usadas (já reduzidas via PCA na base original).\n",
    "\n",
    "### Modelagem\n",
    "- **Modelos usados:** Regressão Logística (baseline) e Random Forest (modelo mais robusto).\n",
    "- **Otimização de hiperparâmetros:** Exploramos ajustes iniciais de `class_weight` e número de estimadores.\n",
    "- **Ensemble:** Avaliado com Random Forest.\n",
    "\n",
    "### Avaliação de Resultados\n",
    "- **Métricas:** `precision`, `recall`, `f1-score`, e `ROC AUC`.\n",
    "- **Resultados fazem sentido?** Sim, RF obteve melhor recall sem comprometer muito a precisão.\n",
    "- **Problema de overfitting?** Não observado fortemente.\n",
    "- **Comparação:** RF superou Logistic Regression em recall e ROC AUC.\n",
    "- **Melhor solução:** Random Forest.\n",
    "\n",
    "### Conclusão Final\n",
    "O modelo Random Forest demonstrou melhor equilíbrio entre precisão e recall, sendo uma solução adequada para o problema de detecção de fraude. Melhorias futuras podem incluir técnicas de balanceamento (SMOTE), otimização mais profunda de hiperparâmetros e avaliação de algoritmos avançados como XGBoost ou redes neurais.\n"
   ]
  }
 ],
 "metadata": {
  "kernelspec": {
   "display_name": "Python 3",
   "language": "python",
   "name": "python3"
  },
  "language_info": {
   "name": "python",
   "version": "3.9"
  }
 },
 "nbformat": 4,
 "nbformat_minor": 2
}